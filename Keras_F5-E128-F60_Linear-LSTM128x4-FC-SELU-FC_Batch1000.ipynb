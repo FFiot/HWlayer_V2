{
 "cells": [
  {
   "cell_type": "code",
   "execution_count": 1,
   "id": "fa4716c5",
   "metadata": {},
   "outputs": [],
   "source": [
    "import gc\n",
    "import numpy as np\n",
    "import pandas as pd\n",
    "\n",
    "import tensorflow as tf\n",
    "import tensorflow.keras.backend as K\n",
    "from tensorflow.keras.layers import Layer\n",
    "from tensorflow.keras.utils import Sequence\n",
    "from tensorflow.keras.layers import Input, Dense, Bidirectional, LSTM\n",
    "from tensorflow.keras.models import load_model, Sequential\n",
    "from tensorflow.keras.callbacks import EarlyStopping, ModelCheckpoint, TensorBoard, LearningRateScheduler, ReduceLROnPlateau\n",
    "\n",
    "from HW_base import evaluate_build, focus_build, plt_scatter\n",
    "from HW_keras import hw_layer"
   ]
  },
  {
   "cell_type": "code",
   "execution_count": 2,
   "id": "382d1ac0",
   "metadata": {},
   "outputs": [],
   "source": [
    "fname = 'Keras_F5-E128-F60_Linear-LSTM128x4-FC-SELU-FC_Small-batch'"
   ]
  },
  {
   "cell_type": "code",
   "execution_count": 3,
   "id": "c83c1c14",
   "metadata": {},
   "outputs": [
    {
     "data": {
      "text/plain": [
       "0"
      ]
     },
     "execution_count": 3,
     "metadata": {},
     "output_type": "execute_result"
    }
   ],
   "source": [
    "data_train_df = pd.read_csv('./Database/train.csv')\n",
    "data_test_df = pd.read_csv('./Database/test.csv')\n",
    "\n",
    "x_columns = ['R', 'C', 'time_step', 'u_in', 'u_out']\n",
    "y_columns = ['pressure']\n",
    "\n",
    "data_train = data_train_df[x_columns].values.astype(np.float32)\n",
    "data_train = data_train.reshape(-1, 80, data_train.shape[-1])\n",
    "\n",
    "target_train = data_train_df[y_columns].values.astype(np.float32)\n",
    "target_train = target_train.reshape(-1, 80, target_train.shape[-1])\n",
    "\n",
    "data_test = data_test_df[x_columns].values.astype(np.float32)\n",
    "data_test = data_test.reshape(-1, 80, data_test.shape[-1])\n",
    "\n",
    "del data_train_df\n",
    "del data_test_df\n",
    "gc.collect()"
   ]
  },
  {
   "cell_type": "code",
   "execution_count": 4,
   "id": "30239b01",
   "metadata": {},
   "outputs": [
    {
     "data": {
      "text/plain": [
       "0"
      ]
     },
     "execution_count": 4,
     "metadata": {},
     "output_type": "execute_result"
    }
   ],
   "source": [
    "np.random.seed(121212)\n",
    "data_idx = np.arange(len(data_train))\n",
    "np.random.shuffle(data_idx)\n",
    "\n",
    "train_index = data_idx[:int(len(data_idx)*0.8)]\n",
    "valid_index = data_idx[int(len(data_idx)*0.8):]\n",
    "\n",
    "x_train, y_train = data_train[train_index], target_train[train_index]\n",
    "x_valid, y_valid = data_train[valid_index], target_train[valid_index]\n",
    "x_test = data_test\n",
    "\n",
    "del data_train\n",
    "del data_test\n",
    "gc.collect()"
   ]
  },
  {
   "cell_type": "code",
   "execution_count": 5,
   "id": "85dd3001",
   "metadata": {},
   "outputs": [
    {
     "name": "stderr",
     "output_type": "stream",
     "text": [
      "evaluate_num:   3,focus:0.8000: 3it [00:00, 3013.87it/s]\n",
      "evaluate_num:   3,focus:0.8000: 3it [00:00, ?it/s]\n",
      "evaluate_num: 127,focus:0.6000: 127it [00:00, 293.24it/s]\n",
      "evaluate_num:  99,focus:0.6000: 99it [00:00, 270.60it/s]\n",
      "evaluate_num:   2,focus:0.9000: 2it [00:00, ?it/s]\n"
     ]
    }
   ],
   "source": [
    "evaluate_list = [evaluate_build(x_test[..., i], 128) for i in range(x_test.shape[-1])]\n",
    "evaluate_focus_list = []\n",
    "for evaluate in evaluate_list:\n",
    "    focus = 1 - (len(evaluate) - 1)/10\n",
    "    if focus < 0.6:\n",
    "        focus = 0.6\n",
    "    evaluate_focus = focus_build(evaluate, focus)\n",
    "    evaluate_focus_list.append(evaluate_focus)"
   ]
  },
  {
   "cell_type": "code",
   "execution_count": 6,
   "id": "f8f662f0",
   "metadata": {},
   "outputs": [],
   "source": [
    "model = Sequential([\n",
    "    hw_layer(evaluate_focus_list, input_shape=(80,5), name='hw_layer'),\n",
    "    Dense(128, use_bias=False),\n",
    "    Bidirectional(LSTM(128, use_bias=True, return_sequences=True)),\n",
    "    Bidirectional(LSTM(128, use_bias=True, return_sequences=True)),\n",
    "    Bidirectional(LSTM(128, use_bias=True, return_sequences=True)),\n",
    "    Bidirectional(LSTM(128, use_bias=True, return_sequences=True)),\n",
    "    Dense(32, use_bias=False, activation='selu'),\n",
    "    Dense(1, name='hw_embedding')\n",
    "])"
   ]
  },
  {
   "cell_type": "code",
   "execution_count": 7,
   "id": "6d62c0bd",
   "metadata": {},
   "outputs": [
    {
     "name": "stdout",
     "output_type": "stream",
     "text": [
      "Model: \"sequential\"\n",
      "_________________________________________________________________\n",
      "Layer (type)                 Output Shape              Param #   \n",
      "=================================================================\n",
      "hw_layer (hw_layer)          (None, 80, 234)           0         \n",
      "_________________________________________________________________\n",
      "dense (Dense)                (None, 80, 128)           29952     \n",
      "_________________________________________________________________\n",
      "bidirectional (Bidirectional (None, 80, 256)           263168    \n",
      "_________________________________________________________________\n",
      "bidirectional_1 (Bidirection (None, 80, 256)           394240    \n",
      "_________________________________________________________________\n",
      "bidirectional_2 (Bidirection (None, 80, 256)           394240    \n",
      "_________________________________________________________________\n",
      "bidirectional_3 (Bidirection (None, 80, 256)           394240    \n",
      "_________________________________________________________________\n",
      "dense_1 (Dense)              (None, 80, 32)            8192      \n",
      "_________________________________________________________________\n",
      "hw_embedding (Dense)         (None, 80, 1)             33        \n",
      "=================================================================\n",
      "Total params: 1,484,065\n",
      "Trainable params: 1,484,065\n",
      "Non-trainable params: 0\n",
      "_________________________________________________________________\n"
     ]
    }
   ],
   "source": [
    "model.compile(optimizer=tf.keras.optimizers.SGD(learning_rate=0.01), loss='mae')\n",
    "# model.compile(optimizer='adam', loss='mse', metrics='mae')\n",
    "model.summary()"
   ]
  },
  {
   "cell_type": "code",
   "execution_count": null,
   "id": "4665df9a",
   "metadata": {
    "scrolled": false
   },
   "outputs": [
    {
     "name": "stdout",
     "output_type": "stream",
     "text": [
      "Epoch 1/1000\n",
      "604/604 [==============================] - 96s 149ms/step - loss: 3.4483 - val_loss: 2.3855\n",
      "Epoch 2/1000\n",
      "604/604 [==============================] - 90s 149ms/step - loss: 2.2313 - val_loss: 1.7051\n",
      "Epoch 3/1000\n",
      "604/604 [==============================] - 91s 151ms/step - loss: 1.7796 - val_loss: 1.9060\n",
      "Epoch 4/1000\n",
      "604/604 [==============================] - 96s 159ms/step - loss: 1.5913 - val_loss: 1.5081\n",
      "Epoch 5/1000\n",
      "604/604 [==============================] - 97s 161ms/step - loss: 1.4362 - val_loss: 1.4549\n",
      "Epoch 6/1000\n",
      "604/604 [==============================] - 93s 153ms/step - loss: 1.3237 - val_loss: 1.3615\n",
      "Epoch 7/1000\n",
      "604/604 [==============================] - 100s 166ms/step - loss: 1.2410 - val_loss: 1.2182\n",
      "Epoch 8/1000\n",
      "604/604 [==============================] - 105s 173ms/step - loss: 1.1816 - val_loss: 1.2376\n",
      "Epoch 9/1000\n",
      "164/604 [=======>......................] - ETA: 1:02 - loss: 1.1609"
     ]
    }
   ],
   "source": [
    "callback_list = [\n",
    "    ReduceLROnPlateau(monitor='val_loss', factor=0.7,  patience=8, min_lr=1e-7, verbose=True),\n",
    "    EarlyStopping(monitor='val_loss', patience=32),\n",
    "    ModelCheckpoint(f'models/{fname}_best.h5', monitor='val_loss', save_best_only=True, verbose=False),\n",
    "    TensorBoard(log_dir=f'./Log/{fname}')\n",
    "]\n",
    "\n",
    "model.fit(x_train, y_train, epochs=1000, batch_size=100,\n",
    "            validation_data=(x_valid, y_valid), validation_batch_size=1000,\n",
    "            callbacks=callback_list)"
   ]
  }
 ],
 "metadata": {
  "kernelspec": {
   "display_name": "Python 3 (ipykernel)",
   "language": "python",
   "name": "python3"
  },
  "language_info": {
   "codemirror_mode": {
    "name": "ipython",
    "version": 3
   },
   "file_extension": ".py",
   "mimetype": "text/x-python",
   "name": "python",
   "nbconvert_exporter": "python",
   "pygments_lexer": "ipython3",
   "version": "3.9.6"
  }
 },
 "nbformat": 4,
 "nbformat_minor": 5
}
