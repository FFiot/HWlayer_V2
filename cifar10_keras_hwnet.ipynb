{
 "cells": [
  {
   "cell_type": "code",
   "execution_count": 1,
   "id": "17dfe55e",
   "metadata": {},
   "outputs": [],
   "source": [
    "import time\n",
    "\n",
    "import numpy as np\n",
    "\n",
    "import tensorflow as tf\n",
    "import tensorflow.keras as K\n",
    "from tensorflow.keras.datasets import cifar10\n",
    "from tensorflow.keras.models import Sequential, Model\n",
    "from tensorflow.keras.layers import Input, Dense, Dropout, Activation, Flatten, Conv2D, MaxPooling2D, AveragePooling2D, Softmax, Reshape\n",
    "from keras.preprocessing.image import ImageDataGenerator\n",
    "from tensorflow.keras.optimizers import Adam, SGD\n",
    "from tensorflow.keras.losses import Huber\n",
    "from tensorflow.keras.metrics import AUC, BinaryAccuracy, Accuracy, Recall, Precision\n",
    "from tensorflow.keras.callbacks import EarlyStopping, ModelCheckpoint, TensorBoard, LearningRateScheduler, ReduceLROnPlateau\n",
    "\n",
    "from HW_base import evaluate_build, focus_build\n",
    "from HW_keras import hw_layer"
   ]
  },
  {
   "cell_type": "code",
   "execution_count": 2,
   "id": "15456512",
   "metadata": {},
   "outputs": [],
   "source": [
    "(x_train, y_train), (x_test, y_test) = cifar10.load_data()\n",
    "\n",
    "x_train = x_train / 255\n",
    "y_train = tf.keras.utils.to_categorical(y_train, 10)\n",
    "\n",
    "x_test = x_test / 255\n",
    "y_test = tf.keras.utils.to_categorical(y_test, 10)"
   ]
  },
  {
   "cell_type": "code",
   "execution_count": 3,
   "id": "2269fa57",
   "metadata": {},
   "outputs": [],
   "source": [
    "evaluate_num = 8\n",
    "focus = 0.8\n",
    "deepth = 3\n",
    "\n",
    "evaluate_dims = evaluate_num * x_test.shape[-1]"
   ]
  },
  {
   "cell_type": "code",
   "execution_count": 4,
   "id": "4ecebaba",
   "metadata": {},
   "outputs": [],
   "source": [
    "def evaluate_build_AveragePooling2D(data, evaluate_num=32, focus=0.8, deepth=3):\n",
    "    output_list = []\n",
    "    x = Input(data.shape[1:])\n",
    "    y_list = [x]\n",
    "    for idx in range(deepth):\n",
    "        y_list += [AveragePooling2D(2)(y_list[-1])]\n",
    "    \n",
    "    model = Model(x, y_list)\n",
    "    data_list = model.predict(data)\n",
    "    \n",
    "    output_list = []\n",
    "    for data in data_list:\n",
    "        print(data.shape)\n",
    "        evaluate_list = [evaluate_build(data[..., i], evaluate_num) for i in range(data.shape[-1])]\n",
    "        evaluate_focus_list = [focus_build(evaluate, focus) for evaluate in evaluate_list]\n",
    "        output_list.append(evaluate_focus_list)\n",
    "        \n",
    "    return output_list"
   ]
  },
  {
   "cell_type": "code",
   "execution_count": 5,
   "id": "ab162c4c",
   "metadata": {},
   "outputs": [
    {
     "name": "stdout",
     "output_type": "stream",
     "text": [
      "(10000, 32, 32, 3)\n"
     ]
    },
    {
     "name": "stderr",
     "output_type": "stream",
     "text": [
      "evaluate_num:   8,focus:0.8000: 8it [00:00, ?it/s]\n",
      "evaluate_num:   8,focus:0.8000: 8it [00:00, ?it/s]\n",
      "evaluate_num:   8,focus:0.8000: 8it [00:00, ?it/s]\n"
     ]
    },
    {
     "name": "stdout",
     "output_type": "stream",
     "text": [
      "(10000, 16, 16, 3)\n"
     ]
    },
    {
     "name": "stderr",
     "output_type": "stream",
     "text": [
      "evaluate_num:   8,focus:0.8000: 8it [00:00, ?it/s]\n",
      "evaluate_num:   8,focus:0.8000: 8it [00:00, ?it/s]\n",
      "evaluate_num:   8,focus:0.8000: 8it [00:00, 8029.30it/s]\n"
     ]
    },
    {
     "name": "stdout",
     "output_type": "stream",
     "text": [
      "(10000, 8, 8, 3)\n"
     ]
    },
    {
     "name": "stderr",
     "output_type": "stream",
     "text": [
      "evaluate_num:   8,focus:0.8000: 8it [00:00, ?it/s]\n",
      "evaluate_num:   8,focus:0.8000: 8it [00:00, ?it/s]\n",
      "evaluate_num:   8,focus:0.8000: 8it [00:00, ?it/s]\n"
     ]
    },
    {
     "name": "stdout",
     "output_type": "stream",
     "text": [
      "(10000, 4, 4, 3)\n"
     ]
    },
    {
     "name": "stderr",
     "output_type": "stream",
     "text": [
      "evaluate_num:   8,focus:0.8000: 8it [00:00, ?it/s]\n",
      "evaluate_num:   8,focus:0.8000: 8it [00:00, 8021.62it/s]\n",
      "evaluate_num:   8,focus:0.8000: 8it [00:00, ?it/s]\n"
     ]
    }
   ],
   "source": [
    "evaluate_focus_list = evaluate_build_average_pooling_2D(x_test, evaluate_num, focus, deepth)"
   ]
  },
  {
   "cell_type": "code",
   "execution_count": 14,
   "id": "a7cf7a03",
   "metadata": {},
   "outputs": [
    {
     "name": "stdout",
     "output_type": "stream",
     "text": [
      "Model: \"model_3\"\n",
      "_________________________________________________________________\n",
      "Layer (type)                 Output Shape              Param #   \n",
      "=================================================================\n",
      "input_10 (InputLayer)        [(None, 32, 32, 3)]       0         \n",
      "=================================================================\n",
      "Total params: 0\n",
      "Trainable params: 0\n",
      "Non-trainable params: 0\n",
      "_________________________________________________________________\n"
     ]
    }
   ],
   "source": [
    "hw_list = []\n",
    "x = Input(shape=((32, 32, 3)))\n",
    "y = x\n",
    "for evaluate_focus in evaluate_focus_list:\n",
    "    l = hw_layer(evaluate_focus)(y)\n",
    "    hw_list.append(l)\n",
    "#     y = AveragePooling2D(2)(y)\n",
    "\n",
    "# y = hw_list[0]\n",
    "# y = Conv2D(32*evaluate_dims, 3, 1, 'same')(y)\n",
    "# y_shape = list(y.shape)[1:]\n",
    "# h_shape = y_shape[:-1] + [y_shape[-1]//evaluate_dims, evaluate_dims]\n",
    "# y = Reshape(h_shape)(y)\n",
    "\n",
    "model = Model(x, hw_list)\n",
    "model.summary()"
   ]
  },
  {
   "cell_type": "code",
   "execution_count": null,
   "id": "d9aee56a",
   "metadata": {},
   "outputs": [],
   "source": [
    "def softmax_dims(x, dims=64):\n",
    "    x_shape = list(x.shape)[1:]\n",
    "    s_shape = x_shape[:-1]\n",
    "    s_shape.append(dims)\n",
    "    s_shape.append(x_shape[-1]//dims)\n",
    "    y = Reshape(s_shape)(x)\n",
    "    y = Softmax(axis=-1)(y*s_shape[-1])\n",
    "    y = Reshape(x_shape)(y)\n",
    "    return y\n",
    "\n",
    "def conv(x, filters=128, kernel_size=3, strides=1, dims=16):\n",
    "    y = x\n",
    "    y = Conv2D(filters, kernel_size, strides, 'same')(y)\n",
    "    s = Conv2D(filters, 1, 1, 'same')(y)\n",
    "    s = softmax_dims(s, dims=dims)\n",
    "    return s\n",
    "\n",
    "\n",
    "\n",
    "# y = conv(y, 16*8, 3, 1, dims=16)\n",
    "y = conv(y, 16*8, 3, 2, dims=16)\n",
    "# y = conv(y, 16*8, 3, 1, dims=16)\n",
    "y = conv(y, 16*8, 3, 2, dims=16)\n",
    "# y = conv(y, 16*8, 3, 1, dims=16)\n",
    "y = conv(y, 16*8, 3, 2, dims=16)\n",
    "\n",
    "y = Flatten()(y)\n",
    "y = Dense(16*8)(y)\n",
    "y = softmax_dims(y, dims=16)\n",
    "y = Dense(10)(y)\n",
    "\n",
    "y = Activation('softmax')(y)\n",
    "\n",
    "model = Model(x, y)\n",
    "model.summary()\n",
    "\n",
    "model.compile(loss=Huber(), optimizer=Adam(learning_rate=0.001), metrics=[AUC(), 'acc'])"
   ]
  },
  {
   "cell_type": "code",
   "execution_count": null,
   "id": "528b5005",
   "metadata": {},
   "outputs": [],
   "source": [
    "datagen = ImageDataGenerator(\n",
    "    featurewise_center = False,  # 将整个数据集的均值设为0\n",
    "    samplewise_center = False,  # 将每个样本的均值设为0\n",
    "    featurewise_std_normalization = False,  # 将输入除以整个数据集的标准差\n",
    "    samplewise_std_normalization = False,  # 将输入除以其标准差\n",
    "    zca_whitening = False,  # 运用 ZCA 白化\n",
    "    zca_epsilon = 1e-06,  # ZCA 白化的 epsilon值\n",
    "    rotation_range = 0,  # 随机旋转图像范围 (角度, 0 to 180)\n",
    "    width_shift_range = 0.1,  # 随机水平移动图像 (总宽度的百分比) \n",
    "    height_shift_range = 0.1,  # 随机垂直移动图像 (总高度的百分比)\n",
    "    shear_range = 0.,  # 设置随机裁剪范围\n",
    "    zoom_range = 0.,  # 设置随机放大范围\n",
    "    channel_shift_range = 0.,  # 设置随机通道切换的范围\n",
    "    fill_mode = 'nearest',  # 设置填充输入边界之外的点的模式\n",
    "    cval = 0.,  # 在 fill_mode = \"constant\" 时使用的值\n",
    "    horizontal_flip = True,  # 随机水平翻转图像\n",
    "    vertical_flip = False,  # 随机垂直翻转图像\n",
    "    rescale = None,  # 设置缩放因子 (在其他转换之前使用)\n",
    "    preprocessing_function = None,  # 设置将应用于每一个输入的函数\n",
    "    data_format = None,  # 图像数据格式，\"channels_first\" 或 \"channels_last\" 之一\n",
    "    validation_split = 0.0)  # 保留用于验证的图像比例（严格在0和1之间）\n",
    "\n",
    "# 计算特征标准化所需的计算量\n",
    "# (如果应用 ZCA 白化，则为 std，mean和主成分).\n",
    "datagen.fit(x_train)"
   ]
  },
  {
   "cell_type": "code",
   "execution_count": null,
   "id": "21177d2d",
   "metadata": {
    "scrolled": false
   },
   "outputs": [],
   "source": [
    "model_name = time.strftime('CIFAR10_KERAS_HWNET%Y%m%d%H%M%S')\n",
    "\n",
    "callback_list = [\n",
    "#     ReduceLROnPlateau(monitor='loss', factor=0.7,  patience=4, min_lr=1e-7, verbose=True),\n",
    "    EarlyStopping(monitor='loss', patience=32),\n",
    "    ModelCheckpoint('models/%s_best.h5'%model_name, monitor='loss', save_best_only=True, verbose=False),\n",
    "    TensorBoard(log_dir='./Log/%s'%model_name)\n",
    "]\n",
    "\n",
    "model.fit(datagen.flow(x_train, y_train, batch_size=100), epochs=200, validation_data=(x_test, y_test), callbacks=callback_list)"
   ]
  },
  {
   "cell_type": "code",
   "execution_count": null,
   "id": "37ba2030",
   "metadata": {},
   "outputs": [],
   "source": []
  }
 ],
 "metadata": {
  "kernelspec": {
   "display_name": "Python 3 (ipykernel)",
   "language": "python",
   "name": "python3"
  },
  "language_info": {
   "codemirror_mode": {
    "name": "ipython",
    "version": 3
   },
   "file_extension": ".py",
   "mimetype": "text/x-python",
   "name": "python",
   "nbconvert_exporter": "python",
   "pygments_lexer": "ipython3",
   "version": "3.9.6"
  }
 },
 "nbformat": 4,
 "nbformat_minor": 5
}
