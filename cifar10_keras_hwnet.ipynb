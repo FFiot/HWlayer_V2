{
 "cells": [
  {
   "cell_type": "code",
   "execution_count": 1,
   "id": "17dfe55e",
   "metadata": {},
   "outputs": [],
   "source": [
    "import time\n",
    "\n",
    "import numpy as np\n",
    "\n",
    "import tensorflow as tf\n",
    "from tensorflow.keras.datasets import cifar10\n",
    "from tensorflow.keras.models import Sequential, Model\n",
    "from tensorflow.keras.layers import Input, Dense, Dropout, Activation, Flatten, Conv2D, MaxPooling2D, Softmax\n",
    "from tensorflow.keras.optimizers import Adam, SGD\n",
    "from tensorflow.keras.losses import Huber\n",
    "from tensorflow.keras.metrics import AUC, BinaryAccuracy, Accuracy, Recall, Precision\n",
    "from tensorflow.keras.callbacks import EarlyStopping, ModelCheckpoint, TensorBoard, LearningRateScheduler, ReduceLROnPlateau\n",
    "\n",
    "from HW_base import evaluate_build, focus_build\n",
    "from HW_keras import hw_layer"
   ]
  },
  {
   "cell_type": "code",
   "execution_count": 2,
   "id": "15456512",
   "metadata": {},
   "outputs": [],
   "source": [
    "(x_train, y_train), (x_test, y_test) = cifar10.load_data()"
   ]
  },
  {
   "cell_type": "code",
   "execution_count": 3,
   "id": "57bbdf7a",
   "metadata": {},
   "outputs": [],
   "source": [
    "y_train = (y_train==0).astype(np.float32)\n",
    "y_test = (y_test==0).astype(np.float32)"
   ]
  },
  {
   "cell_type": "code",
   "execution_count": 4,
   "id": "c1ec9878",
   "metadata": {},
   "outputs": [],
   "source": [
    "# y_train = np.concatenate((y_train==0, y_train != 0), axis=-1).astype(np.float32)\n",
    "# y_test = np.concatenate((y_test==0, y_test != 0), axis=-1).astype(np.float32)"
   ]
  },
  {
   "cell_type": "code",
   "execution_count": 5,
   "id": "843aa0ed",
   "metadata": {},
   "outputs": [],
   "source": [
    "x_min = np.min(x_train, axis=(1, 2), keepdims=True)\n",
    "x_max = np.max(x_train, axis=(1, 2), keepdims=True)\n",
    "x_train = (x_train - x_min) / (x_max - x_min)"
   ]
  },
  {
   "cell_type": "code",
   "execution_count": 6,
   "id": "be6b2500",
   "metadata": {},
   "outputs": [],
   "source": [
    "x_min = np.min(x_test, axis=(1, 2), keepdims=True)\n",
    "x_max = np.max(x_test, axis=(1, 2), keepdims=True)\n",
    "x_test = (x_test - x_min) / (x_max - x_min)"
   ]
  },
  {
   "cell_type": "code",
   "execution_count": 7,
   "id": "b92ab5e3",
   "metadata": {},
   "outputs": [
    {
     "name": "stderr",
     "output_type": "stream",
     "text": [
      "evaluate_num:   8,focus:0.8000: 8it [00:00, 7996.77it/s]\n",
      "evaluate_num:   8,focus:0.8000: 8it [00:00, 8004.40it/s]\n",
      "evaluate_num:   8,focus:0.8000: 8it [00:00, 7998.67it/s]\n"
     ]
    }
   ],
   "source": [
    "evaluate_list = [evaluate_build(x_test[..., i], 8) for i in range(x_test.shape[-1])]\n",
    "evaluate_focus_list = [focus_build(evaluate, 0.8) for evaluate in evaluate_list]"
   ]
  },
  {
   "cell_type": "code",
   "execution_count": 8,
   "id": "d9aee56a",
   "metadata": {},
   "outputs": [
    {
     "name": "stdout",
     "output_type": "stream",
     "text": [
      "Model: \"model\"\n",
      "_________________________________________________________________\n",
      "Layer (type)                 Output Shape              Param #   \n",
      "=================================================================\n",
      "input_1 (InputLayer)         [(None, 32, 32, 3)]       0         \n",
      "_________________________________________________________________\n",
      "hw_layer (hw_layer)          (None, 32, 32, 24)        0         \n",
      "_________________________________________________________________\n",
      "conv2d (Conv2D)              (None, 32, 32, 24)        5208      \n",
      "_________________________________________________________________\n",
      "conv2d_1 (Conv2D)            (None, 32, 32, 24)        600       \n",
      "_________________________________________________________________\n",
      "max_pooling2d (MaxPooling2D) (None, 16, 16, 24)        0         \n",
      "_________________________________________________________________\n",
      "softmax (Softmax)            (None, 16, 16, 24)        0         \n",
      "_________________________________________________________________\n",
      "conv2d_2 (Conv2D)            (None, 16, 16, 24)        5208      \n",
      "_________________________________________________________________\n",
      "conv2d_3 (Conv2D)            (None, 16, 16, 24)        600       \n",
      "_________________________________________________________________\n",
      "max_pooling2d_1 (MaxPooling2 (None, 8, 8, 24)          0         \n",
      "_________________________________________________________________\n",
      "softmax_1 (Softmax)          (None, 8, 8, 24)          0         \n",
      "_________________________________________________________________\n",
      "conv2d_4 (Conv2D)            (None, 8, 8, 24)          5208      \n",
      "_________________________________________________________________\n",
      "conv2d_5 (Conv2D)            (None, 8, 8, 24)          600       \n",
      "_________________________________________________________________\n",
      "max_pooling2d_2 (MaxPooling2 (None, 4, 4, 24)          0         \n",
      "_________________________________________________________________\n",
      "softmax_2 (Softmax)          (None, 4, 4, 24)          0         \n",
      "_________________________________________________________________\n",
      "flatten (Flatten)            (None, 384)               0         \n",
      "_________________________________________________________________\n",
      "dense (Dense)                (None, 64)                24640     \n",
      "_________________________________________________________________\n",
      "dense_1 (Dense)              (None, 1)                 65        \n",
      "_________________________________________________________________\n",
      "activation (Activation)      (None, 1)                 0         \n",
      "=================================================================\n",
      "Total params: 42,129\n",
      "Trainable params: 42,129\n",
      "Non-trainable params: 0\n",
      "_________________________________________________________________\n"
     ]
    }
   ],
   "source": [
    "x = Input(shape=((32, 32, 3)))\n",
    "y = hw_layer(evaluate_focus_list)(x)\n",
    "\n",
    "y = Conv2D(24, 3, 1, 'same')(y)\n",
    "y = Conv2D(24, 1, 1, 'valid')(y)\n",
    "y = MaxPooling2D(2, 2)(y)\n",
    "y = Softmax(axis=-1)(y)\n",
    "\n",
    "y = Conv2D(24, 3, 1, 'same')(y)\n",
    "y = Conv2D(24, 1, 1, 'valid')(y)\n",
    "y = MaxPooling2D(2, 2)(y)\n",
    "y = Softmax(axis=-1)(y)\n",
    "\n",
    "y = Conv2D(24, 3, 1, 'same')(y)\n",
    "y = Conv2D(24, 1, 1, 'valid')(y)\n",
    "y = MaxPooling2D(2, 2)(y)\n",
    "y = Softmax(axis=-1)(y)\n",
    "\n",
    "y = Flatten()(y)\n",
    "y = Dense(64)(y)\n",
    "y = Dense(1)(y)\n",
    "y = Activation('sigmoid')(y)\n",
    "\n",
    "model = Model(x, y)\n",
    "model.summary()\n",
    "\n",
    "model.compile(loss=Huber(), optimizer=Adam(learning_rate=0.001), metrics=[AUC(), Precision(thresholds=0.5), Recall(thresholds=0.5)])"
   ]
  },
  {
   "cell_type": "code",
   "execution_count": null,
   "id": "21177d2d",
   "metadata": {
    "scrolled": false
   },
   "outputs": [
    {
     "name": "stdout",
     "output_type": "stream",
     "text": [
      "Epoch 1/200\n",
      "500/500 [==============================] - 12s 16ms/step - loss: 0.0434 - auc: 0.6249 - precision: 0.5657 - recall: 0.0594 - val_loss: 0.0351 - val_auc: 0.8138 - val_precision: 0.7657 - val_recall: 0.1830\n",
      "Epoch 2/200\n",
      "500/500 [==============================] - 8s 16ms/step - loss: 0.0355 - auc: 0.8056 - precision: 0.6726 - recall: 0.2346 - val_loss: 0.0339 - val_auc: 0.8262 - val_precision: 0.7023 - val_recall: 0.2760\n",
      "Epoch 3/200\n",
      "500/500 [==============================] - 8s 16ms/step - loss: 0.0345 - auc: 0.8184 - precision: 0.7014 - recall: 0.2518 - val_loss: 0.0340 - val_auc: 0.8342 - val_precision: 0.6155 - val_recall: 0.3570\n",
      "Epoch 4/200\n",
      "500/500 [==============================] - 8s 16ms/step - loss: 0.0336 - auc: 0.8249 - precision: 0.7058 - recall: 0.2720 - val_loss: 0.0328 - val_auc: 0.8432 - val_precision: 0.6775 - val_recall: 0.3760\n",
      "Epoch 5/200\n",
      "500/500 [==============================] - 8s 17ms/step - loss: 0.0327 - auc: 0.8315 - precision: 0.7220 - recall: 0.2940 - val_loss: 0.0314 - val_auc: 0.8419 - val_precision: 0.7211 - val_recall: 0.3310\n",
      "Epoch 6/200\n",
      "500/500 [==============================] - 9s 17ms/step - loss: 0.0318 - auc: 0.8405 - precision: 0.7219 - recall: 0.3214 - val_loss: 0.0307 - val_auc: 0.8529 - val_precision: 0.6901 - val_recall: 0.4410\n",
      "Epoch 7/200\n",
      "500/500 [==============================] - 8s 17ms/step - loss: 0.0312 - auc: 0.8479 - precision: 0.7338 - recall: 0.3490 - val_loss: 0.0295 - val_auc: 0.8626 - val_precision: 0.7515 - val_recall: 0.3810\n",
      "Epoch 8/200\n",
      "500/500 [==============================] - 9s 17ms/step - loss: 0.0301 - auc: 0.8573 - precision: 0.7400 - recall: 0.3780 - val_loss: 0.0291 - val_auc: 0.8797 - val_precision: 0.7106 - val_recall: 0.4640\n",
      "Epoch 9/200\n",
      "500/500 [==============================] - 9s 17ms/step - loss: 0.0291 - auc: 0.8727 - precision: 0.7552 - recall: 0.4078 - val_loss: 0.0279 - val_auc: 0.8888 - val_precision: 0.7568 - val_recall: 0.4200\n",
      "Epoch 10/200\n",
      "500/500 [==============================] - 9s 18ms/step - loss: 0.0278 - auc: 0.8880 - precision: 0.7614 - recall: 0.4372 - val_loss: 0.0270 - val_auc: 0.8991 - val_precision: 0.7542 - val_recall: 0.4940\n",
      "Epoch 11/200\n",
      "500/500 [==============================] - 9s 17ms/step - loss: 0.0269 - auc: 0.8980 - precision: 0.7601 - recall: 0.4606 - val_loss: 0.0271 - val_auc: 0.8994 - val_precision: 0.8023 - val_recall: 0.4220\n",
      "Epoch 12/200\n",
      "500/500 [==============================] - 9s 17ms/step - loss: 0.0259 - auc: 0.9062 - precision: 0.7751 - recall: 0.4874 - val_loss: 0.0264 - val_auc: 0.9102 - val_precision: 0.7345 - val_recall: 0.5340\n",
      "Epoch 13/200\n",
      "500/500 [==============================] - 9s 18ms/step - loss: 0.0253 - auc: 0.9111 - precision: 0.7705 - recall: 0.5016 - val_loss: 0.0260 - val_auc: 0.9069 - val_precision: 0.7743 - val_recall: 0.5010\n",
      "Epoch 14/200\n",
      "500/500 [==============================] - 9s 17ms/step - loss: 0.0247 - auc: 0.9138 - precision: 0.7865 - recall: 0.5186 - val_loss: 0.0252 - val_auc: 0.9144 - val_precision: 0.7761 - val_recall: 0.5130\n",
      "Epoch 15/200\n",
      "187/500 [==========>...................] - ETA: 4s - loss: 0.0250 - auc: 0.9167 - precision: 0.7840 - recall: 0.5233"
     ]
    }
   ],
   "source": [
    "model_name = time.strftime('CIFAR10_KERAS_HWNET%Y%m%d%H%M%S')\n",
    "\n",
    "callback_list = [\n",
    "    ReduceLROnPlateau(monitor='loss', factor=0.7,  patience=8, min_lr=1e-7, verbose=True),\n",
    "    EarlyStopping(monitor='loss', patience=32),\n",
    "    ModelCheckpoint('models/%s_best.h5'%model_name, monitor='loss', save_best_only=True, verbose=False),\n",
    "    TensorBoard(log_dir='./Log/%s'%model_name)\n",
    "]\n",
    "\n",
    "model.fit(x_train, y_train, epochs=200, batch_size=100, validation_data=(x_test, y_test), callbacks=callback_list)"
   ]
  }
 ],
 "metadata": {
  "kernelspec": {
   "display_name": "Python 3 (ipykernel)",
   "language": "python",
   "name": "python3"
  },
  "language_info": {
   "codemirror_mode": {
    "name": "ipython",
    "version": 3
   },
   "file_extension": ".py",
   "mimetype": "text/x-python",
   "name": "python",
   "nbconvert_exporter": "python",
   "pygments_lexer": "ipython3",
   "version": "3.9.7"
  }
 },
 "nbformat": 4,
 "nbformat_minor": 5
}
