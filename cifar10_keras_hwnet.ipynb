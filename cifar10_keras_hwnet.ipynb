{
 "cells": [
  {
   "cell_type": "code",
   "execution_count": 1,
   "id": "17dfe55e",
   "metadata": {},
   "outputs": [],
   "source": [
    "import time\n",
    "\n",
    "import numpy as np\n",
    "\n",
    "import tensorflow as tf\n",
    "from tensorflow.keras.datasets import cifar10\n",
    "from keras.preprocessing.image import ImageDataGenerator\n",
    "from tensorflow.keras.models import Sequential, Model\n",
    "from tensorflow.keras.layers import Input, Dense, Dropout, Activation, Flatten, Conv2D, MaxPooling2D, Softmax\n",
    "from tensorflow.keras.optimizers import Adam, SGD\n",
    "from tensorflow.keras.losses import Huber\n",
    "from tensorflow.keras.metrics import AUC, BinaryAccuracy, Accuracy, Recall, Precision\n",
    "from tensorflow.keras.callbacks import EarlyStopping, ModelCheckpoint, TensorBoard, LearningRateScheduler, ReduceLROnPlateau\n",
    "\n",
    "from HW_base import evaluate_build, focus_build\n",
    "from HW_keras import hw_layer"
   ]
  },
  {
   "cell_type": "code",
   "execution_count": 2,
   "id": "15456512",
   "metadata": {},
   "outputs": [],
   "source": [
    "(x_train, y_train), (x_test, y_test) = cifar10.load_data()"
   ]
  },
  {
   "cell_type": "code",
   "execution_count": 3,
   "id": "c1ec9878",
   "metadata": {},
   "outputs": [],
   "source": [
    "y_train = tf.keras.utils.to_categorical(y_train, 10)\n",
    "y_test = tf.keras.utils.to_categorical(y_test, 10)"
   ]
  },
  {
   "cell_type": "code",
   "execution_count": 4,
   "id": "843aa0ed",
   "metadata": {},
   "outputs": [],
   "source": [
    "x_min = np.min(x_train, axis=(1, 2), keepdims=True)\n",
    "x_max = np.max(x_train, axis=(1, 2), keepdims=True)\n",
    "x_train = (x_train - x_min) / (x_max - x_min)"
   ]
  },
  {
   "cell_type": "code",
   "execution_count": 5,
   "id": "be6b2500",
   "metadata": {},
   "outputs": [],
   "source": [
    "x_min = np.min(x_test, axis=(1, 2), keepdims=True)\n",
    "x_max = np.max(x_test, axis=(1, 2), keepdims=True)\n",
    "x_test = (x_test - x_min) / (x_max - x_min)"
   ]
  },
  {
   "cell_type": "code",
   "execution_count": 6,
   "id": "b92ab5e3",
   "metadata": {},
   "outputs": [
    {
     "name": "stderr",
     "output_type": "stream",
     "text": [
      "evaluate_num:   8,focus:0.8000: 8it [00:00, ?it/s]\n",
      "evaluate_num:   8,focus:0.8000: 8it [00:00, 1999.43it/s]\n",
      "evaluate_num:   8,focus:0.8000: 8it [00:00, 2665.80it/s]\n"
     ]
    }
   ],
   "source": [
    "evaluate_list = [evaluate_build(x_test[..., i], 8) for i in range(x_test.shape[-1])]\n",
    "evaluate_focus_list = [focus_build(evaluate, 0.8) for evaluate in evaluate_list]"
   ]
  },
  {
   "cell_type": "code",
   "execution_count": 7,
   "id": "57d08361",
   "metadata": {},
   "outputs": [
    {
     "name": "stdout",
     "output_type": "stream",
     "text": [
      "Model: \"model\"\n",
      "_________________________________________________________________\n",
      "Layer (type)                 Output Shape              Param #   \n",
      "=================================================================\n",
      "input_1 (InputLayer)         [(None, 32, 32, 3)]       0         \n",
      "_________________________________________________________________\n",
      "hw_layer (hw_layer)          (None, 32, 32, 24)        0         \n",
      "_________________________________________________________________\n",
      "conv2d (Conv2D)              (None, 1, 1, 10)          245770    \n",
      "_________________________________________________________________\n",
      "flatten (Flatten)            (None, 10)                0         \n",
      "_________________________________________________________________\n",
      "activation (Activation)      (None, 10)                0         \n",
      "=================================================================\n",
      "Total params: 245,770\n",
      "Trainable params: 245,770\n",
      "Non-trainable params: 0\n",
      "_________________________________________________________________\n"
     ]
    }
   ],
   "source": [
    "x = Input(shape=((32, 32, 3)))\n",
    "y = hw_layer(evaluate_focus_list)(x)\n",
    "y = Conv2D(10, 32, 32)(y)\n",
    "y = Flatten()(y)\n",
    "y = Activation('softmax')(y)\n",
    "\n",
    "model = Model(x, y)\n",
    "model.summary()"
   ]
  },
  {
   "cell_type": "code",
   "execution_count": 12,
   "id": "d9aee56a",
   "metadata": {},
   "outputs": [
    {
     "name": "stdout",
     "output_type": "stream",
     "text": [
      "Model: \"model_2\"\n",
      "_________________________________________________________________\n",
      "Layer (type)                 Output Shape              Param #   \n",
      "=================================================================\n",
      "input_3 (InputLayer)         [(None, 32, 32, 3)]       0         \n",
      "_________________________________________________________________\n",
      "hw_layer_2 (hw_layer)        (None, 32, 32, 24)        0         \n",
      "_________________________________________________________________\n",
      "conv2d_7 (Conv2D)            (None, 32, 32, 64)        13888     \n",
      "_________________________________________________________________\n",
      "conv2d_8 (Conv2D)            (None, 32, 32, 64)        4160      \n",
      "_________________________________________________________________\n",
      "max_pooling2d_3 (MaxPooling2 (None, 16, 16, 64)        0         \n",
      "_________________________________________________________________\n",
      "tf.math.multiply_3 (TFOpLamb (None, 16, 16, 64)        0         \n",
      "_________________________________________________________________\n",
      "softmax_3 (Softmax)          (None, 16, 16, 64)        0         \n",
      "_________________________________________________________________\n",
      "conv2d_9 (Conv2D)            (None, 16, 16, 64)        36928     \n",
      "_________________________________________________________________\n",
      "conv2d_10 (Conv2D)           (None, 16, 16, 64)        4160      \n",
      "_________________________________________________________________\n",
      "max_pooling2d_4 (MaxPooling2 (None, 8, 8, 64)          0         \n",
      "_________________________________________________________________\n",
      "tf.math.multiply_4 (TFOpLamb (None, 8, 8, 64)          0         \n",
      "_________________________________________________________________\n",
      "softmax_4 (Softmax)          (None, 8, 8, 64)          0         \n",
      "_________________________________________________________________\n",
      "conv2d_11 (Conv2D)           (None, 8, 8, 64)          36928     \n",
      "_________________________________________________________________\n",
      "conv2d_12 (Conv2D)           (None, 8, 8, 64)          4160      \n",
      "_________________________________________________________________\n",
      "max_pooling2d_5 (MaxPooling2 (None, 4, 4, 64)          0         \n",
      "_________________________________________________________________\n",
      "tf.math.multiply_5 (TFOpLamb (None, 4, 4, 64)          0         \n",
      "_________________________________________________________________\n",
      "softmax_5 (Softmax)          (None, 4, 4, 64)          0         \n",
      "_________________________________________________________________\n",
      "flatten_2 (Flatten)          (None, 1024)              0         \n",
      "_________________________________________________________________\n",
      "dense_2 (Dense)              (None, 64)                65600     \n",
      "_________________________________________________________________\n",
      "dense_3 (Dense)              (None, 10)                650       \n",
      "_________________________________________________________________\n",
      "activation_2 (Activation)    (None, 10)                0         \n",
      "=================================================================\n",
      "Total params: 166,474\n",
      "Trainable params: 166,474\n",
      "Non-trainable params: 0\n",
      "_________________________________________________________________\n"
     ]
    }
   ],
   "source": [
    "x = Input(shape=((32, 32, 3)))\n",
    "y = hw_layer(evaluate_focus_list)(x)\n",
    "y = Conv2D(64, 3, 1, 'same')(y)\n",
    "y = Conv2D(64, 1, 1)(y)\n",
    "y = MaxPooling2D(2)(y) * 8\n",
    "y = Softmax(axis=-1)(y)\n",
    "y = Conv2D(64, 3, 1, 'same')(y)\n",
    "y = Conv2D(64, 1, 1)(y)\n",
    "y = MaxPooling2D(2)(y) * 8\n",
    "y = Softmax(axis=-1)(y)\n",
    "y = Conv2D(64, 3, 1, 'same')(y)\n",
    "y = Conv2D(64, 1, 1)(y)\n",
    "y = MaxPooling2D(2)(y) * 8\n",
    "y = Softmax(axis=-1)(y)\n",
    "y = Flatten()(y)\n",
    "y = Dense(64)(y)\n",
    "y = Dense(10)(y)\n",
    "y = Activation('softmax')(y)\n",
    "\n",
    "model = Model(x, y)\n",
    "model.summary()"
   ]
  },
  {
   "cell_type": "code",
   "execution_count": 15,
   "id": "de435085",
   "metadata": {},
   "outputs": [],
   "source": [
    "model.compile(loss='categorical_crossentropy', optimizer=Adam(learning_rate=0.001), metrics=['AUC', 'accuracy'])"
   ]
  },
  {
   "cell_type": "code",
   "execution_count": 10,
   "id": "e09058fb",
   "metadata": {},
   "outputs": [],
   "source": [
    "datagen = ImageDataGenerator(\n",
    "    featurewise_center = False,  # 将整个数据集的均值设为 0\n",
    "    samplewise_center = False,  # 将每个样本的均值设为 0\n",
    "    featurewise_std_normalization = False,  # 将输入除以整个数据集的标准差\n",
    "    samplewise_std_normalization = False,  # 将输入除以其标准差\n",
    "    zca_whitening = False,  # 运用 ZCA 白化\n",
    "    zca_epsilon = 1e-06,  # ZCA 白化的 epsilon 值\n",
    "    rotation_range = 0,  # 随机旋转图像范围 (角度, 0 to 180)\n",
    "    width_shift_range = 0.1,  # 随机水平移动图像 (总宽度的百分比)\n",
    "    height_shift_range = 0.1,  # 随机垂直移动图像 (总高度的百分比)\n",
    "    shear_range = 0.,  # 设置随机裁剪范围\n",
    "    zoom_range = 0.,  # 设置随机放大范围\n",
    "    channel_shift_range = 0.,  # 设置随机通道切换的范围\n",
    "    fill_mode = 'nearest',  # 设置填充输入边界之外的点的模式\n",
    "    cval = 0.,  # 在 fill_mode = \"constant\" 时使用的值\n",
    "    horizontal_flip = True,  # 随机水平翻转图像\n",
    "    vertical_flip = True,  # 随机垂直翻转图像\n",
    "    rescale = None,  # 设置缩放因子 (在其他转换之前使用)\n",
    "    preprocessing_function = None,  # 设置将应用于每一个输入的函数\n",
    "    data_format = None,  # 图像数据格式，\"channels_first\" 或 \"channels_last\" 之一\n",
    "    validation_split=0.0)  # 保留用于验证的图像比例（严格在 0 和 1 之间）\n",
    "\n",
    "# 计算特征标准化所需的计算量\n",
    "# (如果应用 ZCA 白化，则为 std，mean和主成分).\n",
    "datagen.fit(x_train)"
   ]
  },
  {
   "cell_type": "code",
   "execution_count": null,
   "id": "21177d2d",
   "metadata": {
    "scrolled": false
   },
   "outputs": [
    {
     "name": "stdout",
     "output_type": "stream",
     "text": [
      "Epoch 1/100\n",
      "100/100 [==============================] - 36s 340ms/step - loss: 2.0791 - auc: 0.7004 - accuracy: 0.2294 - val_loss: 1.8447 - val_auc: 0.7893 - val_accuracy: 0.3168\n",
      "Epoch 2/100\n",
      " 44/100 [============>.................] - ETA: 16s - loss: 1.8212 - auc: 0.7951 - accuracy: 0.3199"
     ]
    }
   ],
   "source": [
    "model_name = time.strftime('CIFAR10_KERAS_HWNET%Y%m%d%H%M%S')\n",
    "\n",
    "callback_list = [\n",
    "    EarlyStopping(monitor='loss', patience=32),\n",
    "    ModelCheckpoint('models/%s_best.h5'%model_name, monitor='loss', save_best_only=True, verbose=False),\n",
    "    TensorBoard(log_dir='./Log/%s'%model_name)\n",
    "]\n",
    "\n",
    "# model.fit(x_train, y_train, epochs=100, batch_size=500, validation_data=(x_test, y_test), callbacks=callback_list)\n",
    "model.fit(datagen.flow(x_train, y_train, batch_size=500), epochs=100, validation_data=(x_test, y_test), callbacks=callback_list)"
   ]
  },
  {
   "cell_type": "code",
   "execution_count": null,
   "id": "37ba2030",
   "metadata": {},
   "outputs": [],
   "source": []
  }
 ],
 "metadata": {
  "kernelspec": {
   "display_name": "Python 3 (ipykernel)",
   "language": "python",
   "name": "python3"
  },
  "language_info": {
   "codemirror_mode": {
    "name": "ipython",
    "version": 3
   },
   "file_extension": ".py",
   "mimetype": "text/x-python",
   "name": "python",
   "nbconvert_exporter": "python",
   "pygments_lexer": "ipython3",
   "version": "3.9.7"
  }
 },
 "nbformat": 4,
 "nbformat_minor": 5
}
