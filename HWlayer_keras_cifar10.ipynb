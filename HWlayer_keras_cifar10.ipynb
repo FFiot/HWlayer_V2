{
 "cells": [
  {
   "cell_type": "code",
   "execution_count": 1,
   "id": "17dfe55e",
   "metadata": {},
   "outputs": [],
   "source": [
    "import time\n",
    "\n",
    "import numpy as np\n",
    "\n",
    "import tensorflow as tf\n",
    "import tensorflow.keras.backend as K\n",
    "from tensorflow.keras.datasets import cifar10\n",
    "from tensorflow.keras.models import Sequential, Model\n",
    "from tensorflow.keras.layers import Input, Dense, Dropout, Activation, Flatten, Conv2D, MaxPooling2D, BatchNormalization, AveragePooling2D, Softmax, Reshape\n",
    "from keras.preprocessing.image import ImageDataGenerator\n",
    "from tensorflow.keras.optimizers import Adam, SGD\n",
    "from tensorflow.keras.losses import Huber\n",
    "from tensorflow.keras.metrics import AUC, BinaryAccuracy, Accuracy, Recall, Precision\n",
    "from tensorflow.keras.callbacks import EarlyStopping, ModelCheckpoint, TensorBoard, LearningRateScheduler, ReduceLROnPlateau\n",
    "\n",
    "from HWlayer_base import evaluate_build, focus_build\n",
    "from HWlayer_keras import HWlayer"
   ]
  },
  {
   "cell_type": "code",
   "execution_count": 2,
   "id": "15456512",
   "metadata": {},
   "outputs": [],
   "source": [
    "(x_train, y_train), (x_test, y_test) = cifar10.load_data()\n",
    "\n",
    "x_train = x_train / 255\n",
    "y_train = tf.keras.utils.to_categorical(y_train, 10)\n",
    "\n",
    "x_test = x_test / 255\n",
    "y_test = tf.keras.utils.to_categorical(y_test, 10)"
   ]
  },
  {
   "cell_type": "code",
   "execution_count": 3,
   "id": "2269fa57",
   "metadata": {},
   "outputs": [],
   "source": [
    "evaluate_num = 8\n",
    "focus = 0.8\n",
    "deepth = 3\n",
    "\n",
    "evaluate_dims = evaluate_num * x_test.shape[-1]"
   ]
  },
  {
   "cell_type": "code",
   "execution_count": 4,
   "id": "4ecebaba",
   "metadata": {},
   "outputs": [],
   "source": [
    "# def evaluate_build_AveragePooling2D(data, evaluate_num=8, focus=0.8, deepth=3):\n",
    "#     output_list = []\n",
    "#     x = Input(data.shape[1:])\n",
    "#     y_list = [x]\n",
    "#     for idx in range(deepth):\n",
    "#         y_list += [AveragePooling2D(2)(y_list[-1])]\n",
    "    \n",
    "#     model = Model(x, y_list)\n",
    "#     data_list = model.predict(data)\n",
    "    \n",
    "#     output_list = []\n",
    "#     for data in data_list:\n",
    "#         print(data.shape)\n",
    "#         evaluate_list = [evaluate_build(data[..., i], evaluate_num) for i in range(data.shape[-1])]\n",
    "#         evaluate_focus_list = [focus_build(evaluate, focus) for evaluate in evaluate_list]\n",
    "#         output_list.append(evaluate_focus_list)\n",
    "        \n",
    "#     return output_list\n",
    "\n",
    "# evaluate_focus_list = evaluate_build_AveragePooling2D(x_test, evaluate_num, focus, deepth)"
   ]
  },
  {
   "cell_type": "code",
   "execution_count": 5,
   "id": "ab162c4c",
   "metadata": {},
   "outputs": [],
   "source": [
    "# x = Input(shape=((32, 32, 3)))\n",
    "# y = x\n",
    "# hw_layer_list = []\n",
    "# for evaluate_focus in evaluate_focus_list:\n",
    "#     l = HWlayer(evaluate_focus)(y)\n",
    "#     l = K.expand_dims(l, -2)\n",
    "#     hw_layer_list.append(l)\n",
    "#     y = MaxPooling2D(2)(y)"
   ]
  },
  {
   "cell_type": "code",
   "execution_count": 6,
   "id": "945b3b77",
   "metadata": {},
   "outputs": [],
   "source": [
    "# VGG11_cfg = [64, 'M', 128, 'M', 256, 256, 'M', 512, 512, 'M', 512, 512, 'M']\n",
    "VGG16_cfg = [64, 64, 'M', 128, 128, 'M', 256, 256, 256, 'M', 512, 512, 512, 'M', 512, 512, 512, 'M']"
   ]
  },
  {
   "cell_type": "code",
   "execution_count": 7,
   "id": "a7cf7a03",
   "metadata": {},
   "outputs": [
    {
     "ename": "TypeError",
     "evalue": "('Keyword argument not understood:', 'Activation')",
     "output_type": "error",
     "traceback": [
      "\u001b[1;31m---------------------------------------------------------------------------\u001b[0m",
      "\u001b[1;31mTypeError\u001b[0m                                 Traceback (most recent call last)",
      "\u001b[1;32m~\\AppData\\Local\\Temp/ipykernel_9748/3023475524.py\u001b[0m in \u001b[0;36m<module>\u001b[1;34m\u001b[0m\n\u001b[0;32m     11\u001b[0m \u001b[1;33m\u001b[0m\u001b[0m\n\u001b[0;32m     12\u001b[0m \u001b[0my\u001b[0m \u001b[1;33m=\u001b[0m \u001b[0mFlatten\u001b[0m\u001b[1;33m(\u001b[0m\u001b[1;33m)\u001b[0m\u001b[1;33m(\u001b[0m\u001b[0my\u001b[0m\u001b[1;33m)\u001b[0m\u001b[1;33m\u001b[0m\u001b[1;33m\u001b[0m\u001b[0m\n\u001b[1;32m---> 13\u001b[1;33m \u001b[0my\u001b[0m \u001b[1;33m=\u001b[0m \u001b[0mDense\u001b[0m\u001b[1;33m(\u001b[0m\u001b[1;36m10\u001b[0m\u001b[1;33m,\u001b[0m \u001b[0mActivation\u001b[0m\u001b[1;33m=\u001b[0m\u001b[1;34m'softmax'\u001b[0m\u001b[1;33m)\u001b[0m\u001b[1;33m(\u001b[0m\u001b[0my\u001b[0m\u001b[1;33m)\u001b[0m\u001b[1;33m\u001b[0m\u001b[1;33m\u001b[0m\u001b[0m\n\u001b[0m\u001b[0;32m     14\u001b[0m \u001b[1;33m\u001b[0m\u001b[0m\n\u001b[0;32m     15\u001b[0m \u001b[0mmodel\u001b[0m \u001b[1;33m=\u001b[0m \u001b[0mModel\u001b[0m\u001b[1;33m(\u001b[0m\u001b[0mx\u001b[0m\u001b[1;33m,\u001b[0m \u001b[0my\u001b[0m\u001b[1;33m)\u001b[0m\u001b[1;33m\u001b[0m\u001b[1;33m\u001b[0m\u001b[0m\n",
      "\u001b[1;32m~\\AppData\\Local\\Programs\\Python\\Python39\\lib\\site-packages\\keras\\layers\\core.py\u001b[0m in \u001b[0;36m__init__\u001b[1;34m(self, units, activation, use_bias, kernel_initializer, bias_initializer, kernel_regularizer, bias_regularizer, activity_regularizer, kernel_constraint, bias_constraint, **kwargs)\u001b[0m\n\u001b[0;32m   1145\u001b[0m                \u001b[0mbias_constraint\u001b[0m\u001b[1;33m=\u001b[0m\u001b[1;32mNone\u001b[0m\u001b[1;33m,\u001b[0m\u001b[1;33m\u001b[0m\u001b[1;33m\u001b[0m\u001b[0m\n\u001b[0;32m   1146\u001b[0m                **kwargs):\n\u001b[1;32m-> 1147\u001b[1;33m     super(Dense, self).__init__(\n\u001b[0m\u001b[0;32m   1148\u001b[0m         activity_regularizer=activity_regularizer, **kwargs)\n\u001b[0;32m   1149\u001b[0m \u001b[1;33m\u001b[0m\u001b[0m\n",
      "\u001b[1;32m~\\AppData\\Roaming\\Python\\Python39\\site-packages\\tensorflow\\python\\training\\tracking\\base.py\u001b[0m in \u001b[0;36m_method_wrapper\u001b[1;34m(self, *args, **kwargs)\u001b[0m\n\u001b[0;32m    528\u001b[0m     \u001b[0mself\u001b[0m\u001b[1;33m.\u001b[0m\u001b[0m_self_setattr_tracking\u001b[0m \u001b[1;33m=\u001b[0m \u001b[1;32mFalse\u001b[0m  \u001b[1;31m# pylint: disable=protected-access\u001b[0m\u001b[1;33m\u001b[0m\u001b[1;33m\u001b[0m\u001b[0m\n\u001b[0;32m    529\u001b[0m     \u001b[1;32mtry\u001b[0m\u001b[1;33m:\u001b[0m\u001b[1;33m\u001b[0m\u001b[1;33m\u001b[0m\u001b[0m\n\u001b[1;32m--> 530\u001b[1;33m       \u001b[0mresult\u001b[0m \u001b[1;33m=\u001b[0m \u001b[0mmethod\u001b[0m\u001b[1;33m(\u001b[0m\u001b[0mself\u001b[0m\u001b[1;33m,\u001b[0m \u001b[1;33m*\u001b[0m\u001b[0margs\u001b[0m\u001b[1;33m,\u001b[0m \u001b[1;33m**\u001b[0m\u001b[0mkwargs\u001b[0m\u001b[1;33m)\u001b[0m\u001b[1;33m\u001b[0m\u001b[1;33m\u001b[0m\u001b[0m\n\u001b[0m\u001b[0;32m    531\u001b[0m     \u001b[1;32mfinally\u001b[0m\u001b[1;33m:\u001b[0m\u001b[1;33m\u001b[0m\u001b[1;33m\u001b[0m\u001b[0m\n\u001b[0;32m    532\u001b[0m       \u001b[0mself\u001b[0m\u001b[1;33m.\u001b[0m\u001b[0m_self_setattr_tracking\u001b[0m \u001b[1;33m=\u001b[0m \u001b[0mprevious_value\u001b[0m  \u001b[1;31m# pylint: disable=protected-access\u001b[0m\u001b[1;33m\u001b[0m\u001b[1;33m\u001b[0m\u001b[0m\n",
      "\u001b[1;32m~\\AppData\\Local\\Programs\\Python\\Python39\\lib\\site-packages\\keras\\engine\\base_layer.py\u001b[0m in \u001b[0;36m__init__\u001b[1;34m(self, trainable, name, dtype, dynamic, **kwargs)\u001b[0m\n\u001b[0;32m    321\u001b[0m     }\n\u001b[0;32m    322\u001b[0m     \u001b[1;31m# Validate optional keyword arguments.\u001b[0m\u001b[1;33m\u001b[0m\u001b[1;33m\u001b[0m\u001b[0m\n\u001b[1;32m--> 323\u001b[1;33m     \u001b[0mgeneric_utils\u001b[0m\u001b[1;33m.\u001b[0m\u001b[0mvalidate_kwargs\u001b[0m\u001b[1;33m(\u001b[0m\u001b[0mkwargs\u001b[0m\u001b[1;33m,\u001b[0m \u001b[0mallowed_kwargs\u001b[0m\u001b[1;33m)\u001b[0m\u001b[1;33m\u001b[0m\u001b[1;33m\u001b[0m\u001b[0m\n\u001b[0m\u001b[0;32m    324\u001b[0m \u001b[1;33m\u001b[0m\u001b[0m\n\u001b[0;32m    325\u001b[0m     \u001b[1;31m# Mutable properties\u001b[0m\u001b[1;33m\u001b[0m\u001b[1;33m\u001b[0m\u001b[0m\n",
      "\u001b[1;32m~\\AppData\\Local\\Programs\\Python\\Python39\\lib\\site-packages\\keras\\utils\\generic_utils.py\u001b[0m in \u001b[0;36mvalidate_kwargs\u001b[1;34m(kwargs, allowed_kwargs, error_message)\u001b[0m\n\u001b[0;32m   1141\u001b[0m   \u001b[1;32mfor\u001b[0m \u001b[0mkwarg\u001b[0m \u001b[1;32min\u001b[0m \u001b[0mkwargs\u001b[0m\u001b[1;33m:\u001b[0m\u001b[1;33m\u001b[0m\u001b[1;33m\u001b[0m\u001b[0m\n\u001b[0;32m   1142\u001b[0m     \u001b[1;32mif\u001b[0m \u001b[0mkwarg\u001b[0m \u001b[1;32mnot\u001b[0m \u001b[1;32min\u001b[0m \u001b[0mallowed_kwargs\u001b[0m\u001b[1;33m:\u001b[0m\u001b[1;33m\u001b[0m\u001b[1;33m\u001b[0m\u001b[0m\n\u001b[1;32m-> 1143\u001b[1;33m       \u001b[1;32mraise\u001b[0m \u001b[0mTypeError\u001b[0m\u001b[1;33m(\u001b[0m\u001b[0merror_message\u001b[0m\u001b[1;33m,\u001b[0m \u001b[0mkwarg\u001b[0m\u001b[1;33m)\u001b[0m\u001b[1;33m\u001b[0m\u001b[1;33m\u001b[0m\u001b[0m\n\u001b[0m\u001b[0;32m   1144\u001b[0m \u001b[1;33m\u001b[0m\u001b[0m\n\u001b[0;32m   1145\u001b[0m \u001b[1;33m\u001b[0m\u001b[0m\n",
      "\u001b[1;31mTypeError\u001b[0m: ('Keyword argument not understood:', 'Activation')"
     ]
    }
   ],
   "source": [
    "x = Input(shape=((32, 32, 3)))\n",
    "y = x\n",
    "\n",
    "for cfg in VGG16_cfg:\n",
    "    if cfg == 'M':\n",
    "        y = MaxPooling2D(2, 2)(y)\n",
    "    else:\n",
    "        y = Conv2D(cfg, 3, 1, 'same')(y)\n",
    "        y = BatchNormalization()(y)\n",
    "        y = Activation('relu')(y)\n",
    "\n",
    "y = Flatten()(y)\n",
    "y = Dense(10)(y)\n",
    "y = Softmax(axis=-1)()\n",
    "        \n",
    "model = Model(x, y)\n",
    "model.summary()"
   ]
  },
  {
   "cell_type": "code",
   "execution_count": null,
   "id": "d9aee56a",
   "metadata": {},
   "outputs": [],
   "source": [
    "model.compile(loss=Huber(), optimizer=SGD(learning_rate=0.01), metrics=[ 'acc', 'AUC'])"
   ]
  },
  {
   "cell_type": "code",
   "execution_count": null,
   "id": "528b5005",
   "metadata": {},
   "outputs": [],
   "source": [
    "datagen = ImageDataGenerator(\n",
    "    featurewise_center = False,  # 将整个数据集的均值设为0\n",
    "    samplewise_center = False,  # 将每个样本的均值设为0\n",
    "    featurewise_std_normalization = False,  # 将输入除以整个数据集的标准差\n",
    "    samplewise_std_normalization = False,  # 将输入除以其标准差\n",
    "    zca_whitening = False,  # 运用 ZCA 白化\n",
    "    zca_epsilon = 1e-06,  # ZCA 白化的 epsilon值\n",
    "    rotation_range = 0,  # 随机旋转图像范围 (角度, 0 to 180)\n",
    "    width_shift_range = 0.1,  # 随机水平移动图像 (总宽度的百分比) \n",
    "    height_shift_range = 0.1,  # 随机垂直移动图像 (总高度的百分比)\n",
    "    shear_range = 0.,  # 设置随机裁剪范围\n",
    "    zoom_range = 0.,  # 设置随机放大范围\n",
    "    channel_shift_range = 0.,  # 设置随机通道切换的范围\n",
    "    fill_mode = 'nearest',  # 设置填充输入边界之外的点的模式\n",
    "    cval = 0.,  # 在 fill_mode = \"constant\" 时使用的值\n",
    "    horizontal_flip = True,  # 随机水平翻转图像\n",
    "    vertical_flip = False,  # 随机垂直翻转图像\n",
    "    rescale = None,  # 设置缩放因子 (在其他转换之前使用)\n",
    "    preprocessing_function = None,  # 设置将应用于每一个输入的函数\n",
    "    data_format = None,  # 图像数据格式，\"channels_first\" 或 \"channels_last\" 之一\n",
    "    validation_split = 0.0)  # 保留用于验证的图像比例（严格在0和1之间）\n",
    "\n",
    "# 计算特征标准化所需的计算量\n",
    "# (如果应用 ZCA 白化，则为 std，mean和主成分).\n",
    "datagen.fit(x_train)"
   ]
  },
  {
   "cell_type": "code",
   "execution_count": null,
   "id": "21177d2d",
   "metadata": {
    "scrolled": false
   },
   "outputs": [],
   "source": [
    "model_name = time.strftime('CIFAR10_VGG_KERAS_HWNET%Y%m%d%H%M%S')\n",
    "\n",
    "callback_list = [\n",
    "    ReduceLROnPlateau(monitor='loss', factor=0.7,  patience=4, min_lr=1e-7, verbose=True),\n",
    "    EarlyStopping(monitor='loss', patience=32),\n",
    "    ModelCheckpoint('models/%s_best.h5'%model_name, monitor='loss', save_best_only=True, verbose=False),\n",
    "    TensorBoard(log_dir='./Log/%s'%model_name)\n",
    "]\n",
    "\n",
    "model.fit(datagen.flow(x_train, y_train, batch_size=100), epochs=200, validation_data=(x_test, y_test), callbacks=callback_list)"
   ]
  }
 ],
 "metadata": {
  "kernelspec": {
   "display_name": "Python 3 (ipykernel)",
   "language": "python",
   "name": "python3"
  },
  "language_info": {
   "codemirror_mode": {
    "name": "ipython",
    "version": 3
   },
   "file_extension": ".py",
   "mimetype": "text/x-python",
   "name": "python",
   "nbconvert_exporter": "python",
   "pygments_lexer": "ipython3",
   "version": "3.9.7"
  }
 },
 "nbformat": 4,
 "nbformat_minor": 5
}
