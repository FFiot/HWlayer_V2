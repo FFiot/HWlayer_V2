{
 "cells": [
  {
   "cell_type": "code",
   "execution_count": 1,
   "id": "0f4e8264",
   "metadata": {},
   "outputs": [],
   "source": [
    "import numpy as np\n",
    "\n",
    "import torch\n",
    "import torch.nn as nn\n",
    "import torch.optim as optim\n",
    "import torch.nn.functional as F\n",
    "import torch.backends.cudnn as cudnn\n",
    "\n",
    "import torchvision\n",
    "import torchvision.transforms as transforms\n",
    "\n",
    "from tqdm import tqdm\n",
    "\n",
    "from Model import *"
   ]
  },
  {
   "cell_type": "code",
   "execution_count": 2,
   "id": "1ef4535e",
   "metadata": {},
   "outputs": [],
   "source": [
    "device = 'cuda' if torch.cuda.is_available() else 'cpu'"
   ]
  },
  {
   "cell_type": "code",
   "execution_count": 3,
   "id": "ea7ea3d1",
   "metadata": {},
   "outputs": [],
   "source": [
    "# cfg = {\n",
    "#     'VGG11': [64, 'M', 128, 'M', 256, 256, 'M', 512, 512, 'M', 512, 512, 'M'],\n",
    "#     'VGG13': [64, 64, 'M', 128, 128, 'M', 256, 256, 'M', 512, 512, 'M', 512, 512, 'M'],\n",
    "#     'VGG16': [64, 64, 'M', 128, 128, 'M', 256, 256, 256, 'M', 512, 512, 512, 'M', 512, 512, 512, 'M'],\n",
    "#     'VGG19': [64, 64, 'M', 128, 128, 'M', 256, 256, 256, 256, 'M', 512, 512, 512, 512, 'M', 512, 512, 512, 512, 'M'],\n",
    "# }\n",
    "\n",
    "# class VGG(nn.Module):\n",
    "#     def __init__(self, vgg_name):\n",
    "#         super(VGG, self).__init__()\n",
    "#         self.features = self._make_layers(cfg[vgg_name])\n",
    "#         self.classifier = nn.Linear(512, 10)\n",
    "\n",
    "#     def forward(self, x):\n",
    "#         out = self.features(x)\n",
    "#         out = out.view(out.size(0), -1)\n",
    "#         out = self.classifier(out)\n",
    "#         return out\n",
    "\n",
    "#     def _make_layers(self, cfg):\n",
    "#         layers = []\n",
    "#         in_channels = 3\n",
    "#         for x in cfg:\n",
    "#             if x == 'M':\n",
    "#                 layers += [nn.MaxPool2d(kernel_size=2, stride=2)]\n",
    "#             else:\n",
    "#                 layers += [nn.Conv2d(in_channels, x, kernel_size=3, padding=1),\n",
    "#                            nn.BatchNorm2d(x),\n",
    "#                            nn.ReLU(inplace=True)]\n",
    "#                 in_channels = x\n",
    "#         layers += [nn.AvgPool2d(kernel_size=1, stride=1)]\n",
    "#         return nn.Sequential(*layers)"
   ]
  },
  {
   "cell_type": "code",
   "execution_count": 4,
   "id": "996dc3a3",
   "metadata": {},
   "outputs": [],
   "source": [
    "transform_train = transforms.Compose([transforms.RandomCrop(32, padding=4),\n",
    "                                      transforms.RandomHorizontalFlip(),\n",
    "                                      transforms.RandomVerticalFlip(),\n",
    "                                      transforms.ToTensor(),\n",
    "                                      transforms.Normalize((0.4914, 0.4822, 0.4465), (0.2023, 0.1994, 0.2010)),])\n",
    "\n",
    "transform_test = transforms.Compose([\n",
    "    transforms.ToTensor(),\n",
    "    transforms.Normalize((0.4914, 0.4822, 0.4465), (0.2023, 0.1994, 0.2010)),\n",
    "])"
   ]
  },
  {
   "cell_type": "code",
   "execution_count": 5,
   "id": "81bd1672",
   "metadata": {},
   "outputs": [
    {
     "name": "stdout",
     "output_type": "stream",
     "text": [
      "Files already downloaded and verified\n"
     ]
    }
   ],
   "source": [
    "train_dataset = torchvision.datasets.CIFAR10(root='./Dataset', train=True, download=True, transform=transform_train)\n",
    "train_loader = torch.utils.data.DataLoader(train_dataset, batch_size=100, shuffle=True, num_workers=2)"
   ]
  },
  {
   "cell_type": "code",
   "execution_count": 6,
   "id": "f186fe53",
   "metadata": {},
   "outputs": [
    {
     "name": "stdout",
     "output_type": "stream",
     "text": [
      "Files already downloaded and verified\n"
     ]
    }
   ],
   "source": [
    "test_dataset = torchvision.datasets.CIFAR10(root='./Dataset', train=False, download=True, transform=transform_test)\n",
    "test_loader = torch.utils.data.DataLoader(test_dataset, batch_size=100, shuffle=False, num_workers=2)"
   ]
  },
  {
   "cell_type": "code",
   "execution_count": 7,
   "id": "e14887c4",
   "metadata": {},
   "outputs": [],
   "source": [
    "classes = ('plane', 'car', 'bird', 'cat', 'deer', 'dog', 'frog', 'horse', 'ship', 'truck')"
   ]
  },
  {
   "cell_type": "code",
   "execution_count": 8,
   "id": "3065e359",
   "metadata": {},
   "outputs": [],
   "source": [
    "# net = VGG('VGG19')\n",
    "net = SimpleDLA()"
   ]
  },
  {
   "cell_type": "code",
   "execution_count": 9,
   "id": "50388cdb",
   "metadata": {},
   "outputs": [],
   "source": [
    "net = net.to(device)\n",
    "if device == 'cuda':\n",
    "    net = torch.nn.DataParallel(net)\n",
    "    cudnn.benchmark = True"
   ]
  },
  {
   "cell_type": "code",
   "execution_count": 10,
   "id": "ef6e8733",
   "metadata": {},
   "outputs": [],
   "source": [
    "criterion = nn.CrossEntropyLoss()\n",
    "optimizer = optim.SGD(net.parameters(), lr=0.001, momentum=0.9, weight_decay=5e-4)\n",
    "scheduler = torch.optim.lr_scheduler.CosineAnnealingLR(optimizer, T_max=200)"
   ]
  },
  {
   "cell_type": "code",
   "execution_count": 11,
   "id": "ebe6fe9b",
   "metadata": {},
   "outputs": [],
   "source": [
    "def valid(epoch):\n",
    "    net.eval()\n",
    "    loss_list, p_list, y_list = [], [], []\n",
    "    for idx, (x, y) in enumerate(test_loader):\n",
    "        x, y = x.to(device), y.to(device)\n",
    "        p = net(x)\n",
    "\n",
    "        loss = criterion(p, y)\n",
    "        loss_list.append(loss.item())\n",
    "\n",
    "        _, p = p.max(axis=-1)\n",
    "        y_list.append(y.detach().cpu().numpy())\n",
    "        p_list.append(p.detach().cpu().numpy())\n",
    "    \n",
    "    loss = np.array(loss_list).mean()\n",
    "    acc = (np.array(p_list) == np.array(y_list)).astype(np.float32).mean()\n",
    "    \n",
    "    return loss, acc"
   ]
  },
  {
   "cell_type": "code",
   "execution_count": 12,
   "id": "d658d9da",
   "metadata": {},
   "outputs": [],
   "source": [
    "def train(epoch):\n",
    "    net.train()        \n",
    "    loss_list, p_list, y_list = [], [], []\n",
    "    with tqdm((enumerate(train_loader)), desc='epoch%3d'%epoch, total=len(train_loader), ncols=0) as t:\n",
    "        for idx, (x, y) in t:\n",
    "            x, y = x.to(device), y.to(device)\n",
    "            p = net(x)\n",
    "            \n",
    "            optimizer.zero_grad()\n",
    "            loss = criterion(p, y)\n",
    "            loss.backward()\n",
    "            optimizer.step()\n",
    "\n",
    "            loss_list.append(loss.item())\n",
    "\n",
    "            _, p = p.max(axis=-1)\n",
    "            y_list.append(y.detach().cpu().numpy())\n",
    "            p_list.append(p.detach().cpu().numpy())\n",
    "            if idx+1 < len(train_loader):\n",
    "                t.set_postfix({'loss':'%0.4f'%loss_list[-1]})\n",
    "            else:\n",
    "                loss = np.array(loss_list).mean()\n",
    "                acc = (np.array(p_list) == np.array(y_list)).astype(np.float32).mean()\n",
    "                \n",
    "                valid_loss, valid_acc = valid(epoch)\n",
    "                t.set_postfix({'loss':'%0.4f'%loss, 'acc':'%0.4f'%acc, 'valid_loss':'%0.4f'%valid_loss, 'valid_acc':'%0.4f'%valid_acc})\n",
    "        return loss, acc"
   ]
  },
  {
   "cell_type": "code",
   "execution_count": null,
   "id": "a1cbdebc",
   "metadata": {
    "scrolled": false
   },
   "outputs": [
    {
     "name": "stderr",
     "output_type": "stream",
     "text": [
      "epoch  0: 100% 500/500 [00:56<00:00,  8.78it/s, loss=1.8834, acc=0.2844, valid_loss=1.6484, valid_acc=0.3800]\n",
      "epoch  1: 100% 500/500 [00:51<00:00,  9.63it/s, loss=1.5177, acc=0.4334, valid_loss=1.4034, valid_acc=0.4793]\n",
      "epoch  2: 100% 500/500 [00:50<00:00,  9.83it/s, loss=1.3066, acc=0.5235, valid_loss=1.3129, valid_acc=0.5320]\n",
      "epoch  3: 100% 500/500 [00:51<00:00,  9.75it/s, loss=1.1528, acc=0.5799, valid_loss=1.1057, valid_acc=0.6052]\n",
      "epoch  4: 100% 500/500 [00:51<00:00,  9.80it/s, loss=1.0390, acc=0.6267, valid_loss=0.9796, valid_acc=0.6493]\n",
      "epoch  5: 100% 500/500 [00:51<00:00,  9.72it/s, loss=0.9571, acc=0.6551, valid_loss=0.9957, valid_acc=0.6407]\n",
      "epoch  6: 100% 500/500 [00:52<00:00,  9.52it/s, loss=0.8963, acc=0.6780, valid_loss=0.9495, valid_acc=0.6620]\n",
      "epoch  7: 100% 500/500 [00:55<00:00,  9.04it/s, loss=0.8397, acc=0.6991, valid_loss=0.8248, valid_acc=0.7065]\n",
      "epoch  8: 100% 500/500 [00:55<00:00,  9.03it/s, loss=0.7924, acc=0.7173, valid_loss=0.8421, valid_acc=0.7059]\n",
      "epoch  9: 100% 500/500 [00:55<00:00,  9.02it/s, loss=0.7499, acc=0.7326, valid_loss=0.7659, valid_acc=0.7310]\n",
      "epoch 10: 100% 500/500 [00:55<00:00,  9.03it/s, loss=0.7042, acc=0.7498, valid_loss=0.7392, valid_acc=0.7432]\n",
      "epoch 11: 100% 500/500 [00:55<00:00,  9.04it/s, loss=0.6675, acc=0.7647, valid_loss=0.7399, valid_acc=0.7393]\n",
      "epoch 12: 100% 500/500 [00:55<00:00,  9.04it/s, loss=0.6330, acc=0.7752, valid_loss=0.6822, valid_acc=0.7587]\n",
      "epoch 13: 100% 500/500 [00:55<00:00,  9.04it/s, loss=0.6004, acc=0.7898, valid_loss=0.7327, valid_acc=0.7468]\n",
      "epoch 14: 100% 500/500 [00:57<00:00,  8.69it/s, loss=0.5669, acc=0.8006, valid_loss=0.6085, valid_acc=0.7926]\n",
      "epoch 15: 100% 500/500 [00:55<00:00,  9.03it/s, loss=0.5502, acc=0.8073, valid_loss=0.6155, valid_acc=0.7852]\n",
      "epoch 16: 100% 500/500 [00:55<00:00,  9.06it/s, loss=0.5205, acc=0.8170, valid_loss=0.5721, valid_acc=0.8025]\n",
      "epoch 17: 100% 500/500 [00:55<00:00,  9.05it/s, loss=0.5014, acc=0.8253, valid_loss=0.5949, valid_acc=0.7967]\n",
      "epoch 18: 100% 500/500 [00:55<00:00,  9.03it/s, loss=0.4820, acc=0.8310, valid_loss=0.6205, valid_acc=0.7945]\n",
      "epoch 19: 100% 500/500 [00:55<00:00,  9.03it/s, loss=0.4629, acc=0.8388, valid_loss=0.5710, valid_acc=0.8045]\n",
      "epoch 20: 100% 500/500 [00:55<00:00,  9.03it/s, loss=0.4414, acc=0.8459, valid_loss=0.5474, valid_acc=0.8084]\n",
      "epoch 21: 100% 500/500 [00:55<00:00,  9.04it/s, loss=0.4245, acc=0.8518, valid_loss=0.5148, valid_acc=0.8224]\n",
      "epoch 22: 100% 500/500 [00:55<00:00,  9.03it/s, loss=0.4070, acc=0.8596, valid_loss=0.5290, valid_acc=0.8211]\n",
      "epoch 23: 100% 500/500 [00:55<00:00,  9.04it/s, loss=0.4020, acc=0.8594, valid_loss=0.5392, valid_acc=0.8209]\n",
      "epoch 24: 100% 500/500 [00:55<00:00,  9.04it/s, loss=0.3867, acc=0.8659, valid_loss=0.4851, valid_acc=0.8361]\n",
      "epoch 25: 100% 500/500 [00:55<00:00,  9.02it/s, loss=0.3711, acc=0.8714, valid_loss=0.5296, valid_acc=0.8225]\n",
      "epoch 26: 100% 500/500 [00:55<00:00,  9.04it/s, loss=0.3579, acc=0.8754, valid_loss=0.5210, valid_acc=0.8285]\n",
      "epoch 27: 100% 500/500 [00:55<00:00,  9.04it/s, loss=0.3488, acc=0.8778, valid_loss=0.4858, valid_acc=0.8377]\n",
      "epoch 28: 100% 500/500 [00:55<00:00,  9.04it/s, loss=0.3387, acc=0.8824, valid_loss=0.4948, valid_acc=0.8329]\n",
      "epoch 29: 100% 500/500 [00:55<00:00,  9.01it/s, loss=0.3315, acc=0.8837, valid_loss=0.4907, valid_acc=0.8390]\n",
      "epoch 30: 100% 500/500 [00:55<00:00,  9.03it/s, loss=0.3167, acc=0.8882, valid_loss=0.5101, valid_acc=0.8340]\n",
      "epoch 31: 100% 500/500 [00:55<00:00,  9.04it/s, loss=0.3099, acc=0.8939, valid_loss=0.4686, valid_acc=0.8439]\n",
      "epoch 32: 100% 500/500 [00:55<00:00,  9.04it/s, loss=0.2964, acc=0.8975, valid_loss=0.4743, valid_acc=0.8488]\n",
      "epoch 33: 100% 500/500 [00:55<00:00,  9.04it/s, loss=0.2870, acc=0.8999, valid_loss=0.4591, valid_acc=0.8494]\n",
      "epoch 34: 100% 500/500 [00:55<00:00,  9.04it/s, loss=0.2856, acc=0.8994, valid_loss=0.4607, valid_acc=0.8461]\n",
      "epoch 35: 100% 500/500 [00:55<00:00,  9.03it/s, loss=0.2755, acc=0.9032, valid_loss=0.5023, valid_acc=0.8393]\n",
      "epoch 36: 100% 500/500 [00:55<00:00,  9.03it/s, loss=0.2675, acc=0.9050, valid_loss=0.4774, valid_acc=0.8466]\n",
      "epoch 37: 100% 500/500 [00:55<00:00,  9.04it/s, loss=0.2605, acc=0.9083, valid_loss=0.4640, valid_acc=0.8526]\n",
      "epoch 38: 100% 500/500 [00:55<00:00,  9.03it/s, loss=0.2543, acc=0.9099, valid_loss=0.4394, valid_acc=0.8620]\n",
      "epoch 39: 100% 500/500 [00:55<00:00,  9.04it/s, loss=0.2500, acc=0.9133, valid_loss=0.5041, valid_acc=0.8423]\n",
      "epoch 40: 100% 500/500 [00:55<00:00,  9.03it/s, loss=0.2341, acc=0.9193, valid_loss=0.4538, valid_acc=0.8563]\n",
      "epoch 41: 100% 500/500 [00:55<00:00,  9.04it/s, loss=0.2298, acc=0.9209, valid_loss=0.4798, valid_acc=0.8518]\n",
      "epoch 42: 100% 500/500 [00:55<00:00,  9.04it/s, loss=0.2294, acc=0.9202, valid_loss=0.4444, valid_acc=0.8578]\n",
      "epoch 43: 100% 500/500 [00:55<00:00,  9.04it/s, loss=0.2136, acc=0.9248, valid_loss=0.4307, valid_acc=0.8630]\n",
      "epoch 44: 100% 500/500 [00:55<00:00,  9.04it/s, loss=0.2139, acc=0.9249, valid_loss=0.4312, valid_acc=0.8672]\n",
      "epoch 45: 100% 500/500 [00:55<00:00,  9.04it/s, loss=0.2083, acc=0.9271, valid_loss=0.4636, valid_acc=0.8546]\n",
      "epoch 46: 100% 500/500 [00:55<00:00,  9.01it/s, loss=0.2048, acc=0.9290, valid_loss=0.4650, valid_acc=0.8571]\n",
      "epoch 47: 100% 500/500 [00:55<00:00,  9.03it/s, loss=0.1989, acc=0.9302, valid_loss=0.4189, valid_acc=0.8702]\n",
      "epoch 48: 100% 500/500 [00:55<00:00,  9.04it/s, loss=0.1865, acc=0.9353, valid_loss=0.4595, valid_acc=0.8615]\n",
      "epoch 49: 100% 500/500 [00:55<00:00,  9.04it/s, loss=0.1889, acc=0.9338, valid_loss=0.4865, valid_acc=0.8561]\n",
      "epoch 50: 100% 500/500 [00:55<00:00,  9.04it/s, loss=0.1802, acc=0.9369, valid_loss=0.4332, valid_acc=0.8673]\n",
      "epoch 51: 100% 500/500 [00:55<00:00,  9.03it/s, loss=0.1728, acc=0.9391, valid_loss=0.4472, valid_acc=0.8663]\n",
      "epoch 52: 100% 500/500 [00:55<00:00,  9.03it/s, loss=0.1746, acc=0.9378, valid_loss=0.4425, valid_acc=0.8667]\n",
      "epoch 53: 100% 500/500 [00:55<00:00,  9.04it/s, loss=0.1726, acc=0.9402, valid_loss=0.3992, valid_acc=0.8776]\n",
      "epoch 54: 100% 500/500 [00:55<00:00,  9.04it/s, loss=0.1654, acc=0.9419, valid_loss=0.4683, valid_acc=0.8623]\n",
      "epoch 55: 100% 500/500 [00:55<00:00,  9.04it/s, loss=0.1598, acc=0.9435, valid_loss=0.4512, valid_acc=0.8695]\n",
      "epoch 56: 100% 500/500 [00:55<00:00,  9.04it/s, loss=0.1567, acc=0.9444, valid_loss=0.4304, valid_acc=0.8718]\n",
      "epoch 57: 100% 500/500 [00:55<00:00,  9.04it/s, loss=0.1507, acc=0.9482, valid_loss=0.4344, valid_acc=0.8759]\n",
      "epoch 58: 100% 500/500 [00:55<00:00,  9.04it/s, loss=0.1467, acc=0.9483, valid_loss=0.4595, valid_acc=0.8672]\n",
      "epoch 59: 100% 500/500 [00:55<00:00,  9.04it/s, loss=0.1466, acc=0.9490, valid_loss=0.4247, valid_acc=0.8728]\n",
      "epoch 60: 100% 500/500 [00:55<00:00,  9.04it/s, loss=0.1444, acc=0.9484, valid_loss=0.4485, valid_acc=0.8684]\n",
      "epoch 61: 100% 500/500 [00:55<00:00,  9.01it/s, loss=0.1398, acc=0.9512, valid_loss=0.4114, valid_acc=0.8801]\n",
      "epoch 62: 100% 500/500 [00:55<00:00,  9.03it/s, loss=0.1382, acc=0.9521, valid_loss=0.4303, valid_acc=0.8735]\n",
      "epoch 63: 100% 500/500 [00:55<00:00,  9.04it/s, loss=0.1316, acc=0.9537, valid_loss=0.4162, valid_acc=0.8800]\n",
      "epoch 64: 100% 500/500 [00:55<00:00,  9.04it/s, loss=0.1283, acc=0.9549, valid_loss=0.4228, valid_acc=0.8751]\n",
      "epoch 65: 100% 500/500 [00:55<00:00,  9.02it/s, loss=0.1268, acc=0.9549, valid_loss=0.4625, valid_acc=0.8663]\n",
      "epoch 66: 100% 500/500 [00:53<00:00,  9.38it/s, loss=0.1220, acc=0.9573, valid_loss=0.4294, valid_acc=0.8796]\n",
      "epoch 67: 100% 500/500 [00:50<00:00,  9.98it/s, loss=0.1211, acc=0.9572, valid_loss=0.4265, valid_acc=0.8805]\n",
      "epoch 68: 100% 500/500 [00:53<00:00,  9.28it/s, loss=0.1188, acc=0.9585, valid_loss=0.4325, valid_acc=0.8770]\n",
      "epoch 69: 100% 500/500 [00:54<00:00,  9.24it/s, loss=0.1139, acc=0.9598, valid_loss=0.4347, valid_acc=0.8767]\n",
      "epoch 70: 100% 500/500 [00:54<00:00,  9.24it/s, loss=0.1145, acc=0.9600, valid_loss=0.4273, valid_acc=0.8792]\n",
      "epoch 71: 100% 500/500 [00:53<00:00,  9.26it/s, loss=0.1134, acc=0.9593, valid_loss=0.4519, valid_acc=0.8745]\n",
      "epoch 72: 100% 500/500 [00:53<00:00,  9.27it/s, loss=0.1081, acc=0.9627, valid_loss=0.4397, valid_acc=0.8742]\n",
      "epoch 73: 100% 500/500 [00:53<00:00,  9.26it/s, loss=0.1093, acc=0.9601, valid_loss=0.4155, valid_acc=0.8819]\n"
     ]
    },
    {
     "name": "stderr",
     "output_type": "stream",
     "text": [
      "epoch 74: 100% 500/500 [00:54<00:00,  9.25it/s, loss=0.1051, acc=0.9630, valid_loss=0.4252, valid_acc=0.8823]\n",
      "epoch 75: 100% 500/500 [00:53<00:00,  9.27it/s, loss=0.1034, acc=0.9632, valid_loss=0.5123, valid_acc=0.8692]\n",
      "epoch 76: 100% 500/500 [00:53<00:00,  9.32it/s, loss=0.1012, acc=0.9640, valid_loss=0.4357, valid_acc=0.8782]\n",
      "epoch 77:  25% 125/500 [00:12<00:34, 10.86it/s, loss=0.1448]"
     ]
    }
   ],
   "source": [
    "for epoch in range(200):\n",
    "    train(epoch)"
   ]
  }
 ],
 "metadata": {
  "kernelspec": {
   "display_name": "Python 3 (ipykernel)",
   "language": "python",
   "name": "python3"
  },
  "language_info": {
   "codemirror_mode": {
    "name": "ipython",
    "version": 3
   },
   "file_extension": ".py",
   "mimetype": "text/x-python",
   "name": "python",
   "nbconvert_exporter": "python",
   "pygments_lexer": "ipython3",
   "version": "3.9.6"
  }
 },
 "nbformat": 4,
 "nbformat_minor": 5
}
