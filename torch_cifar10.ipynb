{
 "cells": [
  {
   "cell_type": "code",
   "execution_count": null,
   "id": "1dd87709",
   "metadata": {},
   "outputs": [],
   "source": [
    "import numpy as np\n",
    "\n",
    "import torch\n",
    "import torch.nn as nn\n",
    "import torch.optim as optim\n",
    "import torch.nn.functional as F\n",
    "import torch.backends.cudnn as cudnn\n",
    "\n",
    "# from torch.utils.tensorboard import SummaryWriter\n",
    "from tensorboardX import SummaryWriter\n",
    "from torchsummary import summary\n",
    "\n",
    "import torchvision\n",
    "import torchvision.transforms as transforms\n",
    "\n",
    "from tqdm import tqdm\n",
    "\n",
    "from Model import *"
   ]
  },
  {
   "cell_type": "code",
   "execution_count": null,
   "id": "676d81b1",
   "metadata": {},
   "outputs": [],
   "source": [
    "device = 'cuda' if torch.cuda.is_available() else 'cpu'"
   ]
  },
  {
   "cell_type": "code",
   "execution_count": null,
   "id": "baf5a554",
   "metadata": {},
   "outputs": [],
   "source": [
    "transform_train = transforms.Compose([transforms.RandomCrop(32, padding=4),\n",
    "                                      transforms.RandomHorizontalFlip(),\n",
    "                                      transforms.RandomVerticalFlip(),\n",
    "                                      transforms.ToTensor(),\n",
    "                                      transforms.Normalize((0.4914, 0.4822, 0.4465), (0.2023, 0.1994, 0.2010)),])\n",
    "\n",
    "transform_test = transforms.Compose([\n",
    "    transforms.ToTensor(),\n",
    "    transforms.Normalize((0.4914, 0.4822, 0.4465), (0.2023, 0.1994, 0.2010)),\n",
    "])"
   ]
  },
  {
   "cell_type": "code",
   "execution_count": null,
   "id": "df972703",
   "metadata": {},
   "outputs": [],
   "source": [
    "train_dataset = torchvision.datasets.CIFAR10(root='./Dataset', train=True, download=True, transform=transform_train)\n",
    "train_loader = torch.utils.data.DataLoader(train_dataset, batch_size=100, shuffle=True, num_workers=2)"
   ]
  },
  {
   "cell_type": "code",
   "execution_count": null,
   "id": "eba6f9bb",
   "metadata": {},
   "outputs": [],
   "source": [
    "test_dataset = torchvision.datasets.CIFAR10(root='./Dataset', train=False, download=True, transform=transform_test)\n",
    "test_loader = torch.utils.data.DataLoader(test_dataset, batch_size=100, shuffle=False, num_workers=2)"
   ]
  },
  {
   "cell_type": "code",
   "execution_count": null,
   "id": "6dfe8211",
   "metadata": {},
   "outputs": [],
   "source": [
    "classes = ('plane', 'car', 'bird', 'cat', 'deer', 'dog', 'frog', 'horse', 'ship', 'truck')"
   ]
  },
  {
   "cell_type": "code",
   "execution_count": null,
   "id": "b91de869",
   "metadata": {},
   "outputs": [],
   "source": [
    "# net = VGG('VGG11')\n",
    "# net = SimpleDLA()\n",
    "net = MobileNetV2()\n",
    "# net = RegNetX_200MF()"
   ]
  },
  {
   "cell_type": "code",
   "execution_count": null,
   "id": "d2e71982",
   "metadata": {
    "scrolled": false
   },
   "outputs": [],
   "source": [
    "net = net.to(device)\n",
    "summary(net, input_size=(3,32, 32))\n",
    "\n",
    "if device == 'cuda':\n",
    "    net = torch.nn.DataParallel(net)\n",
    "    cudnn.benchmark = True"
   ]
  },
  {
   "cell_type": "code",
   "execution_count": null,
   "id": "77fef2ff",
   "metadata": {},
   "outputs": [],
   "source": [
    "criterion = nn.CrossEntropyLoss()\n",
    "optimizer = optim.SGD(net.parameters(), lr=0.001, momentum=0.9, weight_decay=5e-4)\n",
    "scheduler = torch.optim.lr_scheduler.CosineAnnealingLR(optimizer, T_max=200)"
   ]
  },
  {
   "cell_type": "code",
   "execution_count": null,
   "id": "fdc72e87",
   "metadata": {},
   "outputs": [],
   "source": [
    "def valid(epoch):\n",
    "    net.eval()\n",
    "    loss_list, p_list, y_list = [], [], []\n",
    "    for idx, (x, y) in enumerate(test_loader):\n",
    "        x, y = x.to(device), y.to(device)\n",
    "        p = net(x)\n",
    "\n",
    "        loss = criterion(p, y)\n",
    "        loss_list.append(loss.item())\n",
    "\n",
    "        _, p = p.max(axis=-1)\n",
    "        y_list.append(y.detach().cpu().numpy())\n",
    "        p_list.append(p.detach().cpu().numpy())\n",
    "    \n",
    "    loss = np.array(loss_list).mean()\n",
    "    acc = (np.array(p_list) == np.array(y_list)).astype(np.float32).mean()\n",
    "    \n",
    "    return loss, acc"
   ]
  },
  {
   "cell_type": "code",
   "execution_count": null,
   "id": "32189b80",
   "metadata": {},
   "outputs": [],
   "source": [
    "def train(epoch):\n",
    "    net.train()        \n",
    "    loss_list, p_list, y_list = [], [], []\n",
    "    with tqdm((enumerate(train_loader)), desc='epoch%3d'%epoch, total=len(train_loader), ncols=0) as t:\n",
    "        for idx, (x, y) in t:\n",
    "            x, y = x.to(device), y.to(device)\n",
    "            p = net(x)\n",
    "            \n",
    "            optimizer.zero_grad()\n",
    "            loss = criterion(p, y)\n",
    "            loss.backward()\n",
    "            optimizer.step()\n",
    "\n",
    "            loss_list.append(loss.item())\n",
    "\n",
    "            _, p = p.max(axis=-1)\n",
    "            y_list.append(y.detach().cpu().numpy())\n",
    "            p_list.append(p.detach().cpu().numpy())\n",
    "            if idx+1 < len(train_loader):\n",
    "                t.set_postfix({'loss':'%0.4f'%loss_list[-1]})\n",
    "            else:\n",
    "                loss = np.array(loss_list).mean()\n",
    "                acc = (np.array(p_list) == np.array(y_list)).astype(np.float32).mean()\n",
    "                \n",
    "                valid_loss, valid_acc = valid(epoch)\n",
    "                t.set_postfix({'loss':'%0.4f'%loss, 'acc':'%0.4f'%acc, 'valid_loss':'%0.4f'%valid_loss, 'valid_acc':'%0.4f'%valid_acc})\n",
    "        return loss, acc, valid_loss, valid_acc"
   ]
  },
  {
   "cell_type": "code",
   "execution_count": null,
   "id": "2da18c35",
   "metadata": {
    "scrolled": false
   },
   "outputs": [],
   "source": [
    "writer = SummaryWriter()\n",
    "# writer.add_graph(net, input_to_model=torch.from_numpy(np.random.randn(2,3,32,32).astype(np.float32)).to(device), verbose=False)\n",
    "for epoch in range(200):\n",
    "    train_loss, train_acc, valid_loss, valid_acc = train(epoch)\n",
    "    writer.add_scalar('loss/train', train_loss, epoch)\n",
    "    writer.add_scalar('acc/train', train_acc, epoch)\n",
    "    writer.add_scalar('loss/valid', valid_loss, epoch)\n",
    "    writer.add_scalar('acc/valid', valid_acc, epoch)"
   ]
  }
 ],
 "metadata": {
  "kernelspec": {
   "display_name": "Python 3 (ipykernel)",
   "language": "python",
   "name": "python3"
  },
  "language_info": {
   "codemirror_mode": {
    "name": "ipython",
    "version": 3
   },
   "file_extension": ".py",
   "mimetype": "text/x-python",
   "name": "python",
   "nbconvert_exporter": "python",
   "pygments_lexer": "ipython3",
   "version": "3.9.7"
  }
 },
 "nbformat": 4,
 "nbformat_minor": 5
}
