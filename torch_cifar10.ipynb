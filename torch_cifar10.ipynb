{
 "cells": [
  {
   "cell_type": "code",
   "execution_count": null,
   "id": "0f4e8264",
   "metadata": {},
   "outputs": [],
   "source": [
    "import numpy as np\n",
    "\n",
    "import torch\n",
    "import torch.nn as nn\n",
    "import torch.optim as optim\n",
    "import torch.nn.functional as F\n",
    "import torch.backends.cudnn as cudnn\n",
    "\n",
    "import torchvision\n",
    "import torchvision.transforms as transforms\n",
    "\n",
    "from torchsummary import summary\n",
    "from torch.utils.tensorboard import SummaryWriter\n",
    "\n",
    "from tqdm import tqdm\n",
    "\n",
    "\n",
    "\n",
    "from Model import *"
   ]
  },
  {
   "cell_type": "code",
   "execution_count": null,
   "id": "1ef4535e",
   "metadata": {},
   "outputs": [],
   "source": [
    "device = 'cuda' if torch.cuda.is_available() else 'cpu'"
   ]
  },
  {
   "cell_type": "code",
   "execution_count": null,
   "id": "ea7ea3d1",
   "metadata": {},
   "outputs": [],
   "source": [
    "# cfg = {\n",
    "#     'VGG11': [64, 'M', 128, 'M', 256, 256, 'M', 512, 512, 'M', 512, 512, 'M'],\n",
    "#     'VGG13': [64, 64, 'M', 128, 128, 'M', 256, 256, 'M', 512, 512, 'M', 512, 512, 'M'],\n",
    "#     'VGG16': [64, 64, 'M', 128, 128, 'M', 256, 256, 256, 'M', 512, 512, 512, 'M', 512, 512, 512, 'M'],\n",
    "#     'VGG19': [64, 64, 'M', 128, 128, 'M', 256, 256, 256, 256, 'M', 512, 512, 512, 512, 'M', 512, 512, 512, 512, 'M'],\n",
    "# }\n",
    "\n",
    "# class VGG(nn.Module):\n",
    "#     def __init__(self, vgg_name):\n",
    "#         super(VGG, self).__init__()\n",
    "#         self.features = self._make_layers(cfg[vgg_name])\n",
    "#         self.classifier = nn.Linear(512, 10)\n",
    "\n",
    "#     def forward(self, x):\n",
    "#         out = self.features(x)\n",
    "#         out = out.view(out.size(0), -1)\n",
    "#         out = self.classifier(out)\n",
    "#         return out\n",
    "\n",
    "#     def _make_layers(self, cfg):\n",
    "#         layers = []\n",
    "#         in_channels = 3\n",
    "#         for x in cfg:\n",
    "#             if x == 'M':\n",
    "#                 layers += [nn.MaxPool2d(kernel_size=2, stride=2)]\n",
    "#             else:\n",
    "#                 layers += [nn.Conv2d(in_channels, x, kernel_size=3, padding=1),\n",
    "#                            nn.BatchNorm2d(x),\n",
    "#                            nn.ReLU(inplace=True)]\n",
    "#                 in_channels = x\n",
    "#         layers += [nn.AvgPool2d(kernel_size=1, stride=1)]\n",
    "#         return nn.Sequential(*layers)"
   ]
  },
  {
   "cell_type": "code",
   "execution_count": null,
   "id": "996dc3a3",
   "metadata": {},
   "outputs": [],
   "source": [
    "transform_train = transforms.Compose([transforms.RandomCrop(32, padding=4),\n",
    "                                      transforms.RandomHorizontalFlip(),\n",
    "                                      transforms.RandomVerticalFlip(),\n",
    "                                      transforms.ToTensor(),\n",
    "                                      transforms.Normalize((0.4914, 0.4822, 0.4465), (0.2023, 0.1994, 0.2010)),])\n",
    "\n",
    "transform_test = transforms.Compose([\n",
    "    transforms.ToTensor(),\n",
    "    transforms.Normalize((0.4914, 0.4822, 0.4465), (0.2023, 0.1994, 0.2010)),\n",
    "])"
   ]
  },
  {
   "cell_type": "code",
   "execution_count": null,
   "id": "81bd1672",
   "metadata": {},
   "outputs": [],
   "source": [
    "train_dataset = torchvision.datasets.CIFAR10(root='./Dataset', train=True, download=True, transform=transform_train)\n",
    "train_loader = torch.utils.data.DataLoader(train_dataset, batch_size=100, shuffle=True, num_workers=2)"
   ]
  },
  {
   "cell_type": "code",
   "execution_count": null,
   "id": "f186fe53",
   "metadata": {},
   "outputs": [],
   "source": [
    "test_dataset = torchvision.datasets.CIFAR10(root='./Dataset', train=False, download=True, transform=transform_test)\n",
    "test_loader = torch.utils.data.DataLoader(test_dataset, batch_size=100, shuffle=False, num_workers=2)"
   ]
  },
  {
   "cell_type": "code",
   "execution_count": null,
   "id": "e14887c4",
   "metadata": {},
   "outputs": [],
   "source": [
    "classes = ('plane', 'car', 'bird', 'cat', 'deer', 'dog', 'frog', 'horse', 'ship', 'truck')"
   ]
  },
  {
   "cell_type": "code",
   "execution_count": null,
   "id": "3065e359",
   "metadata": {},
   "outputs": [],
   "source": [
    "# net = VGG('VGG19')\n",
    "net = SimpleDLA()"
   ]
  },
  {
   "cell_type": "code",
   "execution_count": null,
   "id": "50388cdb",
   "metadata": {},
   "outputs": [],
   "source": [
    "net = net.to(device)\n",
    "if device == 'cuda':\n",
    "    net = torch.nn.DataParallel(net)\n",
    "    cudnn.benchmark = True"
   ]
  },
  {
   "cell_type": "code",
   "execution_count": null,
   "id": "ef6e8733",
   "metadata": {},
   "outputs": [],
   "source": [
    "criterion = nn.CrossEntropyLoss()\n",
    "optimizer = optim.SGD(net.parameters(), lr=0.001, momentum=0.9, weight_decay=5e-4)\n",
    "scheduler = torch.optim.lr_scheduler.CosineAnnealingLR(optimizer, T_max=200)"
   ]
  },
  {
   "cell_type": "code",
   "execution_count": null,
   "id": "ebe6fe9b",
   "metadata": {},
   "outputs": [],
   "source": [
    "def valid(epoch):\n",
    "    net.eval()\n",
    "    loss_list, p_list, y_list = [], [], []\n",
    "    for idx, (x, y) in enumerate(test_loader):\n",
    "        x, y = x.to(device), y.to(device)\n",
    "        p = net(x)\n",
    "\n",
    "        loss = criterion(p, y)\n",
    "        loss_list.append(loss.item())\n",
    "\n",
    "        _, p = p.max(axis=-1)\n",
    "        y_list.append(y.detach().cpu().numpy())\n",
    "        p_list.append(p.detach().cpu().numpy())\n",
    "    \n",
    "    loss = np.array(loss_list).mean()\n",
    "    acc = (np.array(p_list) == np.array(y_list)).astype(np.float32).mean()\n",
    "    \n",
    "    return loss, acc"
   ]
  },
  {
   "cell_type": "code",
   "execution_count": null,
   "id": "d658d9da",
   "metadata": {},
   "outputs": [],
   "source": [
    "def train(epoch):\n",
    "    net.train()        \n",
    "    loss_list, p_list, y_list = [], [], []\n",
    "    with tqdm((enumerate(train_loader)), desc='epoch%3d'%epoch, total=len(train_loader), ncols=0) as t:\n",
    "        for idx, (x, y) in t:\n",
    "            x, y = x.to(device), y.to(device)\n",
    "            p = net(x)\n",
    "            \n",
    "            optimizer.zero_grad()\n",
    "            loss = criterion(p, y)\n",
    "            loss.backward()\n",
    "            optimizer.step()\n",
    "\n",
    "            loss_list.append(loss.item())\n",
    "\n",
    "            _, p = p.max(axis=-1)\n",
    "            y_list.append(y.detach().cpu().numpy())\n",
    "            p_list.append(p.detach().cpu().numpy())\n",
    "            if idx+1 < len(train_loader):\n",
    "                t.set_postfix({'loss':'%0.4f'%loss_list[-1]})\n",
    "            else:\n",
    "                loss = np.array(loss_list).mean()\n",
    "                acc = (np.array(p_list) == np.array(y_list)).astype(np.float32).mean()\n",
    "                \n",
    "                valid_loss, valid_acc = valid(epoch)\n",
    "                t.set_postfix({'loss':'%0.4f'%loss, 'acc':'%0.4f'%acc, 'valid_loss':'%0.4f'%valid_loss, 'valid_acc':'%0.4f'%valid_acc})\n",
    "        return loss, acc"
   ]
  },
  {
   "cell_type": "code",
   "execution_count": null,
   "id": "a1cbdebc",
   "metadata": {
    "scrolled": false
   },
   "outputs": [],
   "source": [
    "for epoch in range(200):\n",
    "    train(epoch)"
   ]
  }
 ],
 "metadata": {
  "kernelspec": {
   "display_name": "Python 3 (ipykernel)",
   "language": "python",
   "name": "python3"
  },
  "language_info": {
   "codemirror_mode": {
    "name": "ipython",
    "version": 3
   },
   "file_extension": ".py",
   "mimetype": "text/x-python",
   "name": "python",
   "nbconvert_exporter": "python",
   "pygments_lexer": "ipython3",
   "version": "3.9.7"
  }
 },
 "nbformat": 4,
 "nbformat_minor": 5
}
