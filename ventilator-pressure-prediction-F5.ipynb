{
 "cells": [
  {
   "cell_type": "code",
   "execution_count": null,
   "id": "cb18dba0",
   "metadata": {
    "execution": {
     "iopub.execute_input": "2021-10-30T16:13:34.441284Z",
     "iopub.status.busy": "2021-10-30T16:13:34.440286Z",
     "iopub.status.idle": "2021-10-30T16:13:36.209240Z",
     "shell.execute_reply": "2021-10-30T16:13:36.209240Z"
    }
   },
   "outputs": [],
   "source": [
    "import gc\n",
    "import time\n",
    "import argparse\n",
    "from fastai.layers import swish\n",
    "\n",
    "import numpy as np\n",
    "import pandas as pd\n",
    "\n",
    "from sklearn.model_selection import KFold\n",
    "\n",
    "import torch\n",
    "import torch.nn as nn\n",
    "from torch.utils.data import DataLoader\n",
    "from tensorboardX import SummaryWriter\n",
    "\n",
    "from fastai.callback.schedule import Learner\n",
    "from fastai.data.core import DataLoaders\n",
    "from fastai.losses import L1LossFlat\n",
    "from fastai.callback.core import Callback\n",
    "from fastai.callback.tracker import ReduceLROnPlateau, SaveModelCallback\n",
    "\n",
    "from HW_torch import dataLoads_build, net_parameter_count, hw_layer\n",
    "from HW_base import evaluate_build, focus_build"
   ]
  },
  {
   "cell_type": "code",
   "execution_count": null,
   "id": "5be584b2",
   "metadata": {
    "execution": {
     "iopub.execute_input": "2021-10-30T16:13:36.211234Z",
     "iopub.status.busy": "2021-10-30T16:13:36.211234Z",
     "iopub.status.idle": "2021-10-30T16:13:36.225215Z",
     "shell.execute_reply": "2021-10-30T16:13:36.225215Z"
    }
   },
   "outputs": [],
   "source": [
    "fname               = 'F5'\n",
    "epoch_num_first     = 100\n",
    "batch_size_first    = 100\n",
    "epoch_num_second    = 500\n",
    "batch_size_second   = 100\n",
    "evaluate_num        = 128\n",
    "focus_min           = 0.6"
   ]
  },
  {
   "cell_type": "code",
   "execution_count": null,
   "id": "8d55110b",
   "metadata": {
    "execution": {
     "iopub.execute_input": "2021-10-30T16:13:36.231199Z",
     "iopub.status.busy": "2021-10-30T16:13:36.230201Z",
     "iopub.status.idle": "2021-10-30T16:13:36.241180Z",
     "shell.execute_reply": "2021-10-30T16:13:36.241180Z"
    }
   },
   "outputs": [],
   "source": [
    "class net_test(torch.nn.Module):\n",
    "    def __init__(self, evaluate_dic_list, **kwargs):\n",
    "        super(net_test, self).__init__()\n",
    "        self.hw_layer = hw_layer(evaluate_dic_list)\n",
    "        self.hw_dims = self.hw_layer.channels\n",
    "        self.lstm1 = torch.nn.LSTM(self.hw_dims, self.hw_dims, bias=False, bidirectional=False, batch_first=True)\n",
    "        self.lstm2 = torch.nn.LSTM(self.hw_dims, self.hw_dims, bias=False, bidirectional=False, batch_first=True)\n",
    "        self.lstm3 = torch.nn.LSTM(self.hw_dims, self.hw_dims, bias=False, bidirectional=False, batch_first=True)\n",
    "        self.lstm4 = torch.nn.LSTM(self.hw_dims, self.hw_dims, bias=False, bidirectional=False, batch_first=True)\n",
    "        self.fc = torch.nn.Linear(self.hw_dims, 1, bias=True)\n",
    "    def forward(self, x):\n",
    "        hw = self.hw_layer(x)\n",
    "        #lstm1\n",
    "        x, _ = self.lstm1(hw)\n",
    "        x = x * hw\n",
    "        #lstm2\n",
    "        x, _ = self.lstm2(x)\n",
    "        x = x * hw\n",
    "        #lstm3\n",
    "        x, _ = self.lstm3(x)\n",
    "        x = x * hw\n",
    "        #lstm4\n",
    "        x, _ = self.lstm4(x)\n",
    "        x = x * hw\n",
    "        #fc\n",
    "        x = self.fc(x)\n",
    "        return x"
   ]
  },
  {
   "cell_type": "code",
   "execution_count": null,
   "id": "33b48cc7",
   "metadata": {
    "execution": {
     "iopub.execute_input": "2021-10-30T16:13:36.243175Z",
     "iopub.status.busy": "2021-10-30T16:13:36.243175Z",
     "iopub.status.idle": "2021-10-30T16:13:40.477893Z",
     "shell.execute_reply": "2021-10-30T16:13:40.477893Z"
    }
   },
   "outputs": [],
   "source": [
    "data_train_df = pd.read_csv('./Database/train.csv')\n",
    "data_test_df = pd.read_csv('./Database/test.csv')"
   ]
  },
  {
   "cell_type": "code",
   "execution_count": null,
   "id": "f896618a",
   "metadata": {
    "execution": {
     "iopub.execute_input": "2021-10-30T16:13:40.479887Z",
     "iopub.status.busy": "2021-10-30T16:13:40.479887Z",
     "iopub.status.idle": "2021-10-30T16:13:40.492874Z",
     "shell.execute_reply": "2021-10-30T16:13:40.493873Z"
    }
   },
   "outputs": [],
   "source": [
    "drop_columns = ['pressure','id', 'breath_id','one','count','breath_id_lag','breath_id_lag2','breath_id_lagsame','breath_id_lag2same','u_out_lag2']\n",
    "x_columns = [col for col in data_train_df.columns if col not in drop_columns]\n",
    "y_columns = ['pressure']"
   ]
  },
  {
   "cell_type": "code",
   "execution_count": null,
   "id": "01d17a06",
   "metadata": {
    "execution": {
     "iopub.execute_input": "2021-10-30T16:13:40.496865Z",
     "iopub.status.busy": "2021-10-30T16:13:40.496865Z",
     "iopub.status.idle": "2021-10-30T16:13:40.954666Z",
     "shell.execute_reply": "2021-10-30T16:13:40.954666Z"
    }
   },
   "outputs": [],
   "source": [
    "data_train = data_train_df[x_columns].values.astype(np.float32)\n",
    "data_train = data_train.reshape(-1, 80, data_train.shape[-1])\n",
    "\n",
    "target_train = data_train_df[y_columns].values.astype(np.float32)\n",
    "target_train = target_train.reshape(-1, 80, target_train.shape[-1])\n",
    "\n",
    "data_test = data_test_df[x_columns].values.astype(np.float32)\n",
    "data_test = data_test.reshape(-1, 80, data_test.shape[-1])"
   ]
  },
  {
   "cell_type": "code",
   "execution_count": null,
   "id": "ab5d58bb",
   "metadata": {
    "execution": {
     "iopub.execute_input": "2021-10-30T16:13:40.958655Z",
     "iopub.status.busy": "2021-10-30T16:13:40.958655Z",
     "iopub.status.idle": "2021-10-30T16:13:40.970637Z",
     "shell.execute_reply": "2021-10-30T16:13:40.970637Z"
    }
   },
   "outputs": [],
   "source": [
    "np.random.seed(121212)\n",
    "data_idx = np.arange(len(data_train))\n",
    "np.random.shuffle(data_idx)\n",
    "\n",
    "train_index = data_idx[:int(len(data_idx)*0.8)]\n",
    "valid_index = data_idx[int(len(data_idx)*0.8):]"
   ]
  },
  {
   "cell_type": "code",
   "execution_count": null,
   "id": "916430e4",
   "metadata": {
    "execution": {
     "iopub.execute_input": "2021-10-30T16:13:40.972630Z",
     "iopub.status.busy": "2021-10-30T16:13:40.972630Z",
     "iopub.status.idle": "2021-10-30T16:13:41.034492Z",
     "shell.execute_reply": "2021-10-30T16:13:41.034492Z"
    }
   },
   "outputs": [],
   "source": [
    "x_train, y_train = data_train[train_index], target_train[train_index]\n",
    "x_valid, y_valid = data_train[valid_index], target_train[valid_index]\n",
    "x_test = data_test"
   ]
  },
  {
   "cell_type": "code",
   "execution_count": null,
   "id": "7667354f",
   "metadata": {
    "execution": {
     "iopub.execute_input": "2021-10-30T16:13:41.083361Z",
     "iopub.status.busy": "2021-10-30T16:13:41.083361Z",
     "iopub.status.idle": "2021-10-30T16:13:41.097342Z",
     "shell.execute_reply": "2021-10-30T16:13:41.098340Z"
    }
   },
   "outputs": [],
   "source": [
    "del data_train_df\n",
    "del data_test_df\n",
    "gc.collect()"
   ]
  },
  {
   "cell_type": "code",
   "execution_count": null,
   "id": "d692dd27",
   "metadata": {
    "execution": {
     "iopub.execute_input": "2021-10-30T16:13:41.100334Z",
     "iopub.status.busy": "2021-10-30T16:13:41.100334Z",
     "iopub.status.idle": "2021-10-30T16:13:42.369350Z",
     "shell.execute_reply": "2021-10-30T16:13:42.370347Z"
    }
   },
   "outputs": [],
   "source": [
    "evaluate_list = [evaluate_build(x_test[..., i], evaluate_num) for i in range(x_test.shape[-1])]\n",
    "evaluate_focus_list = []\n",
    "for evaluate in evaluate_list:\n",
    "    focus = 1 - (len(evaluate) - 1)/10\n",
    "    if focus < focus_min:\n",
    "        focus = focus_min\n",
    "    evaluate_focus = focus_build(evaluate, focus)\n",
    "    evaluate_focus_list.append(evaluate_focus)"
   ]
  },
  {
   "cell_type": "code",
   "execution_count": null,
   "id": "153da271",
   "metadata": {
    "execution": {
     "iopub.execute_input": "2021-10-30T16:13:42.373340Z",
     "iopub.status.busy": "2021-10-30T16:13:42.373340Z",
     "iopub.status.idle": "2021-10-30T16:13:42.385326Z",
     "shell.execute_reply": "2021-10-30T16:13:42.386322Z"
    }
   },
   "outputs": [],
   "source": [
    "model = net_test(evaluate_focus_list)\n",
    "print(model)\n",
    "\n",
    "train_parameter_num, freeze_parameter_num = net_parameter_count(model)\n",
    "print(train_parameter_num, freeze_parameter_num)"
   ]
  },
  {
   "cell_type": "code",
   "execution_count": null,
   "id": "dfcce265",
   "metadata": {
    "execution": {
     "iopub.execute_input": "2021-10-30T16:13:42.400288Z",
     "iopub.status.busy": "2021-10-30T16:13:42.399290Z",
     "iopub.status.idle": "2021-10-30T16:36:30.331601Z",
     "shell.execute_reply": "2021-10-30T16:36:30.332599Z"
    },
    "scrolled": false
   },
   "outputs": [],
   "source": [
    "dataLoads = dataLoads_build(x_train, y_train, x_valid, y_valid, batch_size_first)\n",
    "learn = Learner(dataLoads, model, loss_func=L1LossFlat())\n",
    "learn.lr_find()\n",
    "learn.fit_one_cycle(epoch_num_first, lr_max=2e-3, cbs=ReduceLROnPlateau(monitor='valid_loss', min_delta=0.5, patience=10))"
   ]
  },
  {
   "cell_type": "code",
   "execution_count": null,
   "id": "7480b142",
   "metadata": {
    "execution": {
     "iopub.execute_input": "2021-10-30T16:36:30.336588Z",
     "iopub.status.busy": "2021-10-30T16:36:30.336588Z",
     "iopub.status.idle": "2021-10-30T16:50:59.725400Z",
     "shell.execute_reply": "2021-10-30T16:50:59.725400Z"
    },
    "scrolled": false
   },
   "outputs": [],
   "source": [
    "dataLoads = dataLoads_build(x_train, y_train, x_valid, y_valid, batch_size_second)\n",
    "learn = Learner(dataLoads, model, loss_func=L1LossFlat())\n",
    "learn.lr_find()\n",
    "learn.fit_one_cycle(epoch_num_second, lr_max=2e-3, cbs=[ReduceLROnPlateau(monitor='valid_loss', min_delta=0.5, patience=10),\n",
    "                                                        SaveModelCallback(monitor='valid_loss', fname=f'{fname}_best')])"
   ]
  },
  {
   "cell_type": "code",
   "execution_count": null,
   "id": "d169a740",
   "metadata": {},
   "outputs": [],
   "source": [
    "from HW_torch import torch_valid, torch_predict\n",
    "\n",
    "device = torch.device('cuda') if torch.cuda.is_available() else torch.device('cpu')\n",
    "\n",
    "state_dict = torch.load(f'models/{fname}_best.pth')\n",
    "model.load_state_dict(state_dict)\n",
    "\n",
    "loss = torch_valid([model.to(device)], L1LossFlat(), (x_train, y_train),  batch_size_second, to_device=device)\n",
    "valid_loss = torch_valid([model.to(device)], L1LossFlat(), (x_valid, y_valid),  batch_size_second, to_device=device)\n",
    "\n",
    "print(loss, valid_loss)"
   ]
  },
  {
   "cell_type": "code",
   "execution_count": null,
   "id": "5c6b9f4a",
   "metadata": {},
   "outputs": [],
   "source": [
    "predict = torch_predict([model.to(device)], x_test, batch_size_second, to_device=device)\n",
    "predict = np.reshape(predict, (-1))"
   ]
  },
  {
   "cell_type": "code",
   "execution_count": null,
   "id": "fd18436b",
   "metadata": {},
   "outputs": [],
   "source": [
    "df = pd.read_csv('Database/sample_submission.csv', index_col=0)\n",
    "df['pressure'] = predict\n",
    "\n",
    "df.to_csv(f'Submission/{fname}.csv')"
   ]
  }
 ],
 "metadata": {
  "interpreter": {
   "hash": "f9cf96c7db471cf61b133b0e4e3b2523172ebb61bf8cc081d235291383382076"
  },
  "kernelspec": {
   "display_name": "Python 3.9.6 64-bit",
   "name": "python3"
  },
  "language_info": {
   "codemirror_mode": {
    "name": "ipython",
    "version": 3
   },
   "file_extension": ".py",
   "mimetype": "text/x-python",
   "name": "python",
   "nbconvert_exporter": "python",
   "pygments_lexer": "ipython3",
   "version": "3.9.6"
  }
 },
 "nbformat": 4,
 "nbformat_minor": 5
}
