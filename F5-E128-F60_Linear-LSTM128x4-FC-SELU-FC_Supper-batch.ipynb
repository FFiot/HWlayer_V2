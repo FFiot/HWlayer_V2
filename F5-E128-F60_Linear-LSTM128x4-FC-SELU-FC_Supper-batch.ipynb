{
 "cells": [
  {
   "cell_type": "code",
   "execution_count": null,
   "id": "fa4716c5",
   "metadata": {},
   "outputs": [],
   "source": [
    "import gc\n",
    "import numpy as np\n",
    "import pandas as pd\n",
    "\n",
    "import torch\n",
    "\n",
    "from fastai.callback.schedule import Learner\n",
    "from fastai.data.core import DataLoaders\n",
    "from fastai.losses import L1LossFlat\n",
    "from fastai.callback.core import Callback\n",
    "from fastai.callback.tracker import ReduceLROnPlateau, SaveModelCallback\n",
    "\n",
    "from HW_base import evaluate_build, focus_build\n",
    "from HW_torch import hw_layer, dataLoads_build, net_parameter_count, torch_valid, torch_predict"
   ]
  },
  {
   "cell_type": "code",
   "execution_count": null,
   "id": "75885ccd",
   "metadata": {},
   "outputs": [],
   "source": [
    "class net_forward(torch.nn.Module):\n",
    "    def __init__(self, evaluate_focus_list, embedding_dims=128, internal_dims=128, internal_layers=4, out_dims=32, **kwargs):\n",
    "        super(net_forward, self).__init__()\n",
    "        self.hw_layer = hw_layer(evaluate_focus_list)\n",
    "        self.fc1 = torch.nn.Linear(self.hw_layer.channels, embedding_dims, bias=False)\n",
    "        self.lstm = torch.nn.LSTM(embedding_dims, internal_dims, num_layers=internal_layers, bias=True, bidirectional=True, batch_first=True)\n",
    "        self.fc2 = torch.nn.Linear(internal_dims*2, out_dims, bias=False)\n",
    "\n",
    "    def forward(self, x):\n",
    "        x = self.hw_layer(x)\n",
    "        x = self.fc1(x)\n",
    "        x, _ = self.lstm(x)\n",
    "        x = self.fc2(x)\n",
    "        return x\n",
    "\n",
    "class net_back(torch.nn.Module):\n",
    "    def __init__(self, evaluate_focus_list, out_dims=1, **kwargs):\n",
    "        super(net_back, self).__init__()\n",
    "        self.hw_layer = hw_layer(evaluate_focus_list)\n",
    "        self.fc1 = torch.nn.Linear(self.hw_layer.channels, out_dims=1)\n",
    "\n",
    "    def forward(self, x):\n",
    "        x = self.hw_layer(x)\n",
    "        x = self.fc1(x)\n",
    "        return x\n",
    "\n",
    "class net_test(torch.nn.Module):\n",
    "    def __init__(self, evaluate_focus_list, embedding_size=128, internal_dims=128, internal_layers=4, internal_out_dims=32, out_dims=1, **kwargs):\n",
    "        super(net_test, self).__init__()\n",
    "        self.input_layer = net_forward(evaluate_focus_list, embedding_size, internal_dims, internal_layers, internal_out_dims)\n",
    "        self.out_layer = torch.nn.Sequential(torch.nn.SELU(),\n",
    "                                             torch.nn.Linear(internal_out_dims, out_dims))\n",
    "\n",
    "    def forward(self, x):\n",
    "        x = self.input_layer(x)\n",
    "        x = self.out_layer(x)\n",
    "        return x"
   ]
  },
  {
   "cell_type": "code",
   "execution_count": null,
   "id": "c83c1c14",
   "metadata": {},
   "outputs": [],
   "source": [
    "data_train_df = pd.read_csv('./Database/train.csv')\n",
    "data_test_df = pd.read_csv('./Database/test.csv')\n",
    "\n",
    "x_columns = ['R', 'C', 'time_step', 'u_in', 'u_out']\n",
    "y_columns = ['pressure']\n",
    "\n",
    "data_train = data_train_df[x_columns].values.astype(np.float32)\n",
    "data_train = data_train.reshape(-1, 80, data_train.shape[-1])\n",
    "\n",
    "target_train = data_train_df[y_columns].values.astype(np.float32)\n",
    "target_train = target_train.reshape(-1, 80, target_train.shape[-1])\n",
    "\n",
    "data_test = data_test_df[x_columns].values.astype(np.float32)\n",
    "data_test = data_test.reshape(-1, 80, data_test.shape[-1])\n",
    "\n",
    "del data_train_df\n",
    "del data_test_df\n",
    "gc.collect()"
   ]
  },
  {
   "cell_type": "code",
   "execution_count": null,
   "id": "30239b01",
   "metadata": {},
   "outputs": [],
   "source": [
    "np.random.seed(121212)\n",
    "data_idx = np.arange(len(data_train))\n",
    "np.random.shuffle(data_idx)\n",
    "\n",
    "train_index = data_idx[:int(len(data_idx)*0.8)]\n",
    "valid_index = data_idx[int(len(data_idx)*0.8):]\n",
    "\n",
    "x_train, y_train = data_train[train_index], target_train[train_index]\n",
    "x_valid, y_valid = data_train[valid_index], target_train[valid_index]\n",
    "x_test = data_test\n",
    "\n",
    "del data_train\n",
    "del data_test\n",
    "gc.collect()"
   ]
  },
  {
   "cell_type": "code",
   "execution_count": null,
   "id": "85dd3001",
   "metadata": {},
   "outputs": [],
   "source": [
    "evaluate_list = [evaluate_build(x_test[..., i], 128) for i in range(x_test.shape[-1])]\n",
    "evaluate_focus_list = []\n",
    "for evaluate in evaluate_list:\n",
    "    focus = 1 - (len(evaluate) - 1)/10\n",
    "    if focus < 0.6:\n",
    "        focus = 0.6\n",
    "    evaluate_focus = focus_build(evaluate, focus)\n",
    "    evaluate_focus_list.append(evaluate_focus)"
   ]
  },
  {
   "cell_type": "code",
   "execution_count": null,
   "id": "f8f662f0",
   "metadata": {},
   "outputs": [],
   "source": [
    "net = net_test(evaluate_focus_list, output_dims=1)\n",
    "print(net)\n",
    "print(net_parameter_count(net))"
   ]
  },
  {
   "cell_type": "code",
   "execution_count": null,
   "id": "4665df9a",
   "metadata": {
    "scrolled": false
   },
   "outputs": [],
   "source": [
    "dataLoads = dataLoads_build(x_train, y_train, x_valid, y_valid, 600)\n",
    "learn = Learner(dataLoads, net, loss_func=L1LossFlat())\n",
    "learn.lr_find()\n",
    "learn.fit_one_cycle(500, lr_max=2e-3, cbs=[ReduceLROnPlateau(monitor='valid_loss', min_delta=0.5, patience=10),\n",
    "                                           SaveModelCallback(monitor='valid_loss', fname=f'back_test_best')])"
   ]
  }
 ],
 "metadata": {
  "kernelspec": {
   "display_name": "Python 3 (ipykernel)",
   "language": "python",
   "name": "python3"
  },
  "language_info": {
   "codemirror_mode": {
    "name": "ipython",
    "version": 3
   },
   "file_extension": ".py",
   "mimetype": "text/x-python",
   "name": "python",
   "nbconvert_exporter": "python",
   "pygments_lexer": "ipython3",
   "version": "3.9.7"
  }
 },
 "nbformat": 4,
 "nbformat_minor": 5
}
