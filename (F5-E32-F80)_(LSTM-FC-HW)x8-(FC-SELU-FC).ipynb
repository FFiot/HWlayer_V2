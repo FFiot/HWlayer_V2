{
 "cells": [
  {
   "cell_type": "code",
   "execution_count": 1,
   "id": "cb18dba0",
   "metadata": {
    "execution": {
     "iopub.execute_input": "2021-10-30T16:13:34.441284Z",
     "iopub.status.busy": "2021-10-30T16:13:34.440286Z",
     "iopub.status.idle": "2021-10-30T16:13:36.209240Z",
     "shell.execute_reply": "2021-10-30T16:13:36.209240Z"
    }
   },
   "outputs": [],
   "source": [
    "import gc\n",
    "import time\n",
    "import argparse\n",
    "from fastai.layers import swish\n",
    "\n",
    "import numpy as np\n",
    "import pandas as pd\n",
    "\n",
    "from sklearn.model_selection import KFold\n",
    "\n",
    "import torch\n",
    "import torch.nn as nn\n",
    "from torch.utils.data import DataLoader\n",
    "from torch.utils.tensorboard import SummaryWriter\n",
    "from torchsummary import summary\n",
    "\n",
    "from fastai.callback.schedule import Learner\n",
    "from fastai.data.core import DataLoaders\n",
    "from fastai.losses import L1LossFlat\n",
    "from fastai.callback.core import Callback\n",
    "from fastai.callback.tracker import ReduceLROnPlateau, SaveModelCallback\n",
    "\n",
    "from HW_torch import dataLoads_build, net_parameter_count, hw_layer\n",
    "from HW_base import evaluate_build, focus_build"
   ]
  },
  {
   "cell_type": "code",
   "execution_count": 2,
   "id": "5be584b2",
   "metadata": {
    "execution": {
     "iopub.execute_input": "2021-10-30T16:13:36.211234Z",
     "iopub.status.busy": "2021-10-30T16:13:36.211234Z",
     "iopub.status.idle": "2021-10-30T16:13:36.225215Z",
     "shell.execute_reply": "2021-10-30T16:13:36.225215Z"
    }
   },
   "outputs": [],
   "source": [
    "fname               = '(F5-E128-F80)_RES(LSTM-FC-HW)x8-(FC-SELU-FC)'\n",
    "evaluate_num        = 128\n",
    "focus_min           = 0.8\n",
    "net_block_num       = 8\n",
    "hw_active           = True\n",
    "epoch_num_first     = 100\n",
    "batch_size_first    = 100\n",
    "epoch_num_second    = 200\n",
    "batch_size_second   = 1000"
   ]
  },
  {
   "cell_type": "code",
   "execution_count": 3,
   "id": "8d55110b",
   "metadata": {
    "execution": {
     "iopub.execute_input": "2021-10-30T16:13:36.231199Z",
     "iopub.status.busy": "2021-10-30T16:13:36.230201Z",
     "iopub.status.idle": "2021-10-30T16:13:36.241180Z",
     "shell.execute_reply": "2021-10-30T16:13:36.241180Z"
    }
   },
   "outputs": [],
   "source": [
    "class Net_block(torch.nn.Module):\n",
    "    def __init__(self, input_dims, internal_dims, output_dims, bias=True, bidirectional=True, batch_first=True, **kwargs):\n",
    "        super(Net_block, self).__init__()\n",
    "        self.lstm = nn.LSTM(input_dims, internal_dims, num_layers=1, bias=True, bidirectional=True, batch_first=True)\n",
    "        if bidirectional:\n",
    "            self.fc =nn.Linear(internal_dims*2, output_dims)\n",
    "        else:\n",
    "            self.fc =nn.Linear(internal_dims, output_dims)\n",
    "            \n",
    "    def forward(self, x, hw=None):\n",
    "        y, _ = self.lstm(x)\n",
    "        y = self.fc(y) + x\n",
    "        if hw is not None:\n",
    "            y = y * hw\n",
    "        return y\n",
    "        \n",
    "class Net_test(torch.nn.Module):\n",
    "    def __init__(self, evaluate_dic_list, net_block_num=net_block_num, hw_active=hw_active, **kwargs):\n",
    "        super(Net_test, self).__init__()\n",
    "        self.hw_layer = hw_layer(evaluate_dic_list)\n",
    "        self.hw_dims = self.hw_layer.channels\n",
    "        \n",
    "        self.net_block_list = nn.ModuleList()\n",
    "        for _ in range(net_block_num):\n",
    "            self.net_block_list.append(Net_block(self.hw_dims, self.hw_dims, self.hw_dims))\n",
    "        \n",
    "        self.fc = nn.Sequential(nn.Linear(self.hw_dims, 32, bias=False),\n",
    "                                nn.SELU(),\n",
    "                                nn.Linear(32, 1, bias=True))\n",
    "        \n",
    "    def forward(self, x):\n",
    "        hw = self.hw_layer(x)\n",
    "        x = hw\n",
    "        \n",
    "        for net_block in self.net_block_list:\n",
    "            x = net_block(x, hw)\n",
    "        \n",
    "        x = self.fc(x)\n",
    "        return x"
   ]
  },
  {
   "cell_type": "code",
   "execution_count": 4,
   "id": "33b48cc7",
   "metadata": {
    "execution": {
     "iopub.execute_input": "2021-10-30T16:13:36.243175Z",
     "iopub.status.busy": "2021-10-30T16:13:36.243175Z",
     "iopub.status.idle": "2021-10-30T16:13:40.477893Z",
     "shell.execute_reply": "2021-10-30T16:13:40.477893Z"
    }
   },
   "outputs": [],
   "source": [
    "data_train_df = pd.read_csv('./Database/train.csv')\n",
    "data_test_df = pd.read_csv('./Database/test.csv')"
   ]
  },
  {
   "cell_type": "code",
   "execution_count": 5,
   "id": "f896618a",
   "metadata": {
    "execution": {
     "iopub.execute_input": "2021-10-30T16:13:40.479887Z",
     "iopub.status.busy": "2021-10-30T16:13:40.479887Z",
     "iopub.status.idle": "2021-10-30T16:13:40.492874Z",
     "shell.execute_reply": "2021-10-30T16:13:40.493873Z"
    }
   },
   "outputs": [],
   "source": [
    "drop_columns = ['pressure','id', 'breath_id','one','count','breath_id_lag','breath_id_lag2','breath_id_lagsame','breath_id_lag2same','u_out_lag2']\n",
    "x_columns = [col for col in data_train_df.columns if col not in drop_columns]\n",
    "y_columns = ['pressure']"
   ]
  },
  {
   "cell_type": "code",
   "execution_count": 6,
   "id": "01d17a06",
   "metadata": {
    "execution": {
     "iopub.execute_input": "2021-10-30T16:13:40.496865Z",
     "iopub.status.busy": "2021-10-30T16:13:40.496865Z",
     "iopub.status.idle": "2021-10-30T16:13:40.954666Z",
     "shell.execute_reply": "2021-10-30T16:13:40.954666Z"
    }
   },
   "outputs": [],
   "source": [
    "data_train = data_train_df[x_columns].values.astype(np.float32)\n",
    "data_train = data_train.reshape(-1, 80, data_train.shape[-1])\n",
    "\n",
    "target_train = data_train_df[y_columns].values.astype(np.float32)\n",
    "target_train = target_train.reshape(-1, 80, target_train.shape[-1])\n",
    "\n",
    "data_test = data_test_df[x_columns].values.astype(np.float32)\n",
    "data_test = data_test.reshape(-1, 80, data_test.shape[-1])"
   ]
  },
  {
   "cell_type": "code",
   "execution_count": 7,
   "id": "dda26a2d",
   "metadata": {},
   "outputs": [
    {
     "name": "stdout",
     "output_type": "stream",
     "text": [
      "(75450, 80, 5)\n"
     ]
    }
   ],
   "source": [
    "print(data_train.shape)"
   ]
  },
  {
   "cell_type": "code",
   "execution_count": 8,
   "id": "ab5d58bb",
   "metadata": {
    "execution": {
     "iopub.execute_input": "2021-10-30T16:13:40.958655Z",
     "iopub.status.busy": "2021-10-30T16:13:40.958655Z",
     "iopub.status.idle": "2021-10-30T16:13:40.970637Z",
     "shell.execute_reply": "2021-10-30T16:13:40.970637Z"
    }
   },
   "outputs": [],
   "source": [
    "np.random.seed(121212)\n",
    "data_idx = np.arange(len(data_train))\n",
    "np.random.shuffle(data_idx)\n",
    "\n",
    "train_index = data_idx[:int(len(data_idx)*0.9)]\n",
    "valid_index = data_idx[int(len(data_idx)*0.1):]"
   ]
  },
  {
   "cell_type": "code",
   "execution_count": 9,
   "id": "916430e4",
   "metadata": {
    "execution": {
     "iopub.execute_input": "2021-10-30T16:13:40.972630Z",
     "iopub.status.busy": "2021-10-30T16:13:40.972630Z",
     "iopub.status.idle": "2021-10-30T16:13:41.034492Z",
     "shell.execute_reply": "2021-10-30T16:13:41.034492Z"
    }
   },
   "outputs": [],
   "source": [
    "x_train, y_train = data_train[train_index], target_train[train_index]\n",
    "x_valid, y_valid = data_train[valid_index], target_train[valid_index]\n",
    "x_test = data_test"
   ]
  },
  {
   "cell_type": "code",
   "execution_count": 10,
   "id": "7667354f",
   "metadata": {
    "execution": {
     "iopub.execute_input": "2021-10-30T16:13:41.083361Z",
     "iopub.status.busy": "2021-10-30T16:13:41.083361Z",
     "iopub.status.idle": "2021-10-30T16:13:41.097342Z",
     "shell.execute_reply": "2021-10-30T16:13:41.098340Z"
    }
   },
   "outputs": [
    {
     "data": {
      "text/plain": [
       "22"
      ]
     },
     "execution_count": 10,
     "metadata": {},
     "output_type": "execute_result"
    }
   ],
   "source": [
    "del data_train_df\n",
    "del data_test_df\n",
    "gc.collect()"
   ]
  },
  {
   "cell_type": "code",
   "execution_count": 11,
   "id": "d692dd27",
   "metadata": {
    "execution": {
     "iopub.execute_input": "2021-10-30T16:13:41.100334Z",
     "iopub.status.busy": "2021-10-30T16:13:41.100334Z",
     "iopub.status.idle": "2021-10-30T16:13:42.369350Z",
     "shell.execute_reply": "2021-10-30T16:13:42.370347Z"
    }
   },
   "outputs": [
    {
     "name": "stderr",
     "output_type": "stream",
     "text": [
      "evaluate_num:   3,focus:0.8000: 3it [00:00, 3005.23it/s]\n",
      "evaluate_num:   3,focus:0.8000: 3it [00:00, ?it/s]\n",
      "evaluate_num: 127,focus:0.6000: 127it [00:00, 317.56it/s]\n",
      "evaluate_num:  99,focus:0.6000: 99it [00:00, 294.55it/s]\n",
      "evaluate_num:   2,focus:0.9000: 2it [00:00, ?it/s]\n"
     ]
    }
   ],
   "source": [
    "evaluate_list = [evaluate_build(x_test[..., i], evaluate_num) for i in range(x_test.shape[-1])]\n",
    "evaluate_focus_list = []\n",
    "for evaluate in evaluate_list:\n",
    "    focus = 1 - (len(evaluate) - 1)/10\n",
    "    if focus < focus_min:\n",
    "        focus = focus_min\n",
    "    evaluate_focus = focus_build(evaluate, focus)\n",
    "    evaluate_focus_list.append(evaluate_focus)"
   ]
  },
  {
   "cell_type": "code",
   "execution_count": 12,
   "id": "153da271",
   "metadata": {
    "execution": {
     "iopub.execute_input": "2021-10-30T16:13:42.373340Z",
     "iopub.status.busy": "2021-10-30T16:13:42.373340Z",
     "iopub.status.idle": "2021-10-30T16:13:42.385326Z",
     "shell.execute_reply": "2021-10-30T16:13:42.386322Z"
    }
   },
   "outputs": [
    {
     "name": "stdout",
     "output_type": "stream",
     "text": [
      "Net_test(\n",
      "  (hw_layer): hw_layer(\n",
      "    (evaluate_list): ModuleList(\n",
      "      (0): Embedding(3, 1)\n",
      "      (1): Embedding(3, 1)\n",
      "      (2): Embedding(127, 1)\n",
      "      (3): Embedding(99, 1)\n",
      "      (4): Embedding(2, 1)\n",
      "    )\n",
      "    (focus_list): ModuleList(\n",
      "      (0): Embedding(3, 1)\n",
      "      (1): Embedding(3, 1)\n",
      "      (2): Embedding(127, 1)\n",
      "      (3): Embedding(99, 1)\n",
      "      (4): Embedding(2, 1)\n",
      "    )\n",
      "  )\n",
      "  (net_block_list): ModuleList(\n",
      "    (0): Net_block(\n",
      "      (lstm): LSTM(234, 234, batch_first=True, bidirectional=True)\n",
      "      (fc): Linear(in_features=468, out_features=234, bias=True)\n",
      "    )\n",
      "    (1): Net_block(\n",
      "      (lstm): LSTM(234, 234, batch_first=True, bidirectional=True)\n",
      "      (fc): Linear(in_features=468, out_features=234, bias=True)\n",
      "    )\n",
      "    (2): Net_block(\n",
      "      (lstm): LSTM(234, 234, batch_first=True, bidirectional=True)\n",
      "      (fc): Linear(in_features=468, out_features=234, bias=True)\n",
      "    )\n",
      "    (3): Net_block(\n",
      "      (lstm): LSTM(234, 234, batch_first=True, bidirectional=True)\n",
      "      (fc): Linear(in_features=468, out_features=234, bias=True)\n",
      "    )\n",
      "    (4): Net_block(\n",
      "      (lstm): LSTM(234, 234, batch_first=True, bidirectional=True)\n",
      "      (fc): Linear(in_features=468, out_features=234, bias=True)\n",
      "    )\n",
      "    (5): Net_block(\n",
      "      (lstm): LSTM(234, 234, batch_first=True, bidirectional=True)\n",
      "      (fc): Linear(in_features=468, out_features=234, bias=True)\n",
      "    )\n",
      "    (6): Net_block(\n",
      "      (lstm): LSTM(234, 234, batch_first=True, bidirectional=True)\n",
      "      (fc): Linear(in_features=468, out_features=234, bias=True)\n",
      "    )\n",
      "    (7): Net_block(\n",
      "      (lstm): LSTM(234, 234, batch_first=True, bidirectional=True)\n",
      "      (fc): Linear(in_features=468, out_features=234, bias=True)\n",
      "    )\n",
      "  )\n",
      "  (fc): Sequential(\n",
      "    (0): Linear(in_features=234, out_features=32, bias=False)\n",
      "    (1): SELU()\n",
      "    (2): Linear(in_features=32, out_features=1, bias=True)\n",
      "  )\n",
      ")\n",
      "7924209 468\n"
     ]
    }
   ],
   "source": [
    "model = Net_test(evaluate_focus_list)\n",
    "print(model)\n",
    "\n",
    "train_parameter_num, freeze_parameter_num = net_parameter_count(model)\n",
    "print(train_parameter_num, freeze_parameter_num)"
   ]
  },
  {
   "cell_type": "code",
   "execution_count": null,
   "id": "dfcce265",
   "metadata": {
    "execution": {
     "iopub.execute_input": "2021-10-30T16:13:42.400288Z",
     "iopub.status.busy": "2021-10-30T16:13:42.399290Z",
     "iopub.status.idle": "2021-10-30T16:36:30.331601Z",
     "shell.execute_reply": "2021-10-30T16:36:30.332599Z"
    },
    "scrolled": false
   },
   "outputs": [
    {
     "data": {
      "text/html": [],
      "text/plain": [
       "<IPython.core.display.HTML object>"
      ]
     },
     "metadata": {},
     "output_type": "display_data"
    },
    {
     "data": {
      "text/html": [
       "\n",
       "    <div>\n",
       "        <style>\n",
       "            /* Turns off some styling */\n",
       "            progress {\n",
       "                /* gets rid of default border in Firefox and Opera. */\n",
       "                border: none;\n",
       "                /* Needs to be in here for Safari polyfill so background images work as expected. */\n",
       "                background-size: auto;\n",
       "            }\n",
       "            .progress-bar-interrupted, .progress-bar-interrupted::-webkit-progress-bar {\n",
       "                background: #F44336;\n",
       "            }\n",
       "        </style>\n",
       "      <progress value='5' class='' max='100' style='width:300px; height:20px; vertical-align: middle;'></progress>\n",
       "      5.00% [5/100 07:38<2:25:02]\n",
       "    </div>\n",
       "    \n",
       "<table border=\"1\" class=\"dataframe\">\n",
       "  <thead>\n",
       "    <tr style=\"text-align: left;\">\n",
       "      <th>epoch</th>\n",
       "      <th>train_loss</th>\n",
       "      <th>valid_loss</th>\n",
       "      <th>time</th>\n",
       "    </tr>\n",
       "  </thead>\n",
       "  <tbody>\n",
       "    <tr>\n",
       "      <td>0</td>\n",
       "      <td>1.914038</td>\n",
       "      <td>1.684997</td>\n",
       "      <td>01:31</td>\n",
       "    </tr>\n",
       "    <tr>\n",
       "      <td>1</td>\n",
       "      <td>0.923415</td>\n",
       "      <td>0.892227</td>\n",
       "      <td>01:31</td>\n",
       "    </tr>\n",
       "    <tr>\n",
       "      <td>2</td>\n",
       "      <td>0.707767</td>\n",
       "      <td>0.714288</td>\n",
       "      <td>01:32</td>\n",
       "    </tr>\n",
       "    <tr>\n",
       "      <td>3</td>\n",
       "      <td>0.607676</td>\n",
       "      <td>0.614365</td>\n",
       "      <td>01:31</td>\n",
       "    </tr>\n",
       "    <tr>\n",
       "      <td>4</td>\n",
       "      <td>0.539098</td>\n",
       "      <td>0.556849</td>\n",
       "      <td>01:30</td>\n",
       "    </tr>\n",
       "  </tbody>\n",
       "</table><p>\n",
       "\n",
       "    <div>\n",
       "        <style>\n",
       "            /* Turns off some styling */\n",
       "            progress {\n",
       "                /* gets rid of default border in Firefox and Opera. */\n",
       "                border: none;\n",
       "                /* Needs to be in here for Safari polyfill so background images work as expected. */\n",
       "                background-size: auto;\n",
       "            }\n",
       "            .progress-bar-interrupted, .progress-bar-interrupted::-webkit-progress-bar {\n",
       "                background: #F44336;\n",
       "            }\n",
       "        </style>\n",
       "      <progress value='159' class='' max='680' style='width:300px; height:20px; vertical-align: middle;'></progress>\n",
       "      23.38% [159/680 00:15<00:50 0.5219]\n",
       "    </div>\n",
       "    "
      ],
      "text/plain": [
       "<IPython.core.display.HTML object>"
      ]
     },
     "metadata": {},
     "output_type": "display_data"
    },
    {
     "name": "stdout",
     "output_type": "stream",
     "text": [
      "Better model found at epoch 0 with valid_loss value: 1.6849974393844604.\n",
      "Better model found at epoch 1 with valid_loss value: 0.8922269940376282.\n",
      "Better model found at epoch 2 with valid_loss value: 0.7142876386642456.\n",
      "Better model found at epoch 3 with valid_loss value: 0.6143646240234375.\n",
      "Better model found at epoch 4 with valid_loss value: 0.5568487644195557.\n"
     ]
    }
   ],
   "source": [
    "dataLoads = dataLoads_build(x_train, y_train, x_valid, y_valid, batch_size_first)\n",
    "learn = Learner(dataLoads, model, loss_func=L1LossFlat())\n",
    "learn.lr_find()\n",
    "learn.fit_one_cycle(epoch_num_first, lr_max=2e-3, cbs=[ReduceLROnPlateau(monitor='valid_loss', min_delta=0.5, patience=10),\n",
    "                                                       SaveModelCallback(monitor='valid_loss', fname=f'{fname}_B{batch_size_first}_best')])"
   ]
  },
  {
   "cell_type": "code",
   "execution_count": null,
   "id": "7480b142",
   "metadata": {
    "execution": {
     "iopub.execute_input": "2021-10-30T16:36:30.336588Z",
     "iopub.status.busy": "2021-10-30T16:36:30.336588Z",
     "iopub.status.idle": "2021-10-30T16:50:59.725400Z",
     "shell.execute_reply": "2021-10-30T16:50:59.725400Z"
    },
    "scrolled": false
   },
   "outputs": [],
   "source": [
    "dataLoads = dataLoads_build(x_train, y_train, x_valid, y_valid, batch_size_second)\n",
    "learn = Learner(dataLoads, model, loss_func=L1LossFlat())\n",
    "learn.lr_find()\n",
    "learn.fit_one_cycle(epoch_num_second, lr_max=2e-3, cbs=[ReduceLROnPlateau(monitor='valid_loss', min_delta=0.5, patience=10),\n",
    "                                                        SaveModelCallback(monitor='valid_loss', fname=f'{fname}_B{batch_size_second}_best')])"
   ]
  },
  {
   "cell_type": "code",
   "execution_count": null,
   "id": "d169a740",
   "metadata": {},
   "outputs": [],
   "source": [
    "from HW_torch import torch_valid, torch_predict\n",
    "\n",
    "device = torch.device('cuda') if torch.cuda.is_available() else torch.device('cpu')\n",
    "\n",
    "state_dict = torch.load(fname=f'{fname}_B{batch_size_second}_best.pth')\n",
    "model.load_state_dict(state_dict)\n",
    "\n",
    "loss = torch_valid([model.to(device)], L1LossFlat(), (x_train, y_train),  batch_size_second, to_device=device)\n",
    "valid_loss = torch_valid([model.to(device)], L1LossFlat(), (x_valid, y_valid),  batch_size_second, to_device=device)\n",
    "\n",
    "print(loss, valid_loss)"
   ]
  },
  {
   "cell_type": "code",
   "execution_count": null,
   "id": "5c6b9f4a",
   "metadata": {},
   "outputs": [],
   "source": [
    "predict = torch_predict([model.to(device)], x_test, batch_size_second, to_device=device)\n",
    "predict = np.reshape(predict, (-1))"
   ]
  },
  {
   "cell_type": "code",
   "execution_count": null,
   "id": "fd18436b",
   "metadata": {},
   "outputs": [],
   "source": [
    "df = pd.read_csv('Database/sample_submission.csv', index_col=0)\n",
    "df['pressure'] = predict\n",
    "\n",
    "df.to_csv(f'Submission/{fname}.csv')"
   ]
  }
 ],
 "metadata": {
  "interpreter": {
   "hash": "f9cf96c7db471cf61b133b0e4e3b2523172ebb61bf8cc081d235291383382076"
  },
  "kernelspec": {
   "display_name": "Python 3 (ipykernel)",
   "language": "python",
   "name": "python3"
  },
  "language_info": {
   "codemirror_mode": {
    "name": "ipython",
    "version": 3
   },
   "file_extension": ".py",
   "mimetype": "text/x-python",
   "name": "python",
   "nbconvert_exporter": "python",
   "pygments_lexer": "ipython3",
   "version": "3.9.6"
  }
 },
 "nbformat": 4,
 "nbformat_minor": 5
}
